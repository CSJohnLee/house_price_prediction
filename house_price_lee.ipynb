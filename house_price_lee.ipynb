{
 "cells": [
  {
   "cell_type": "markdown",
   "metadata": {},
   "source": [
    "# John's House Price"
   ]
  },
  {
   "cell_type": "markdown",
   "metadata": {},
   "source": [
    "### Importing Packages"
   ]
  },
  {
   "cell_type": "code",
   "execution_count": 1,
   "metadata": {},
   "outputs": [],
   "source": [
    "# This tells matplotlib not to try opening a new window for each plot.\n",
    "%matplotlib inline\n",
    "\n",
    "# General libraries.\n",
    "import re\n",
    "import time\n",
    "import numpy as np\n",
    "import pandas as pd # to read in csv\n",
    "import matplotlib.pyplot as plt\n",
    "from matplotlib.ticker import MultipleLocator\n",
    "\n",
    "# SK-learn libraries for learning.\n",
    "from sklearn.pipeline import Pipeline\n",
    "from sklearn.neighbors import KNeighborsClassifier\n",
    "from sklearn.linear_model import LogisticRegression\n",
    "from sklearn.linear_model import LinearRegression\n",
    "from sklearn.naive_bayes import BernoulliNB\n",
    "from sklearn.naive_bayes import MultinomialNB\n",
    "from sklearn.naive_bayes import GaussianNB\n",
    "from sklearn.model_selection import GridSearchCV\n",
    "\n",
    "# SK-learn libraries for evaluation.\n",
    "from sklearn.metrics import confusion_matrix\n",
    "from sklearn import metrics\n",
    "from sklearn.metrics import classification_report\n",
    "\n",
    "# SK-learn libraries for feature extraction from text.\n",
    "from sklearn.feature_extraction.text import *\n",
    "from sklearn.preprocessing import LabelEncoder\n",
    "from sklearn.preprocessing import MinMaxScaler\n",
    "from sklearn.model_selection import train_test_split\n",
    "\n",
    "\n",
    "import nltk\n",
    "\n",
    "# Set the randomizer seed so results are the same each time.\n",
    "np.random.seed(0)"
   ]
  },
  {
   "cell_type": "markdown",
   "metadata": {},
   "source": [
    "### Load and Inspect Data"
   ]
  },
  {
   "cell_type": "code",
   "execution_count": 3,
   "metadata": {
    "scrolled": false
   },
   "outputs": [
    {
     "name": "stdout",
     "output_type": "stream",
     "text": [
      "Train Shape: (1460, 81)\n",
      "Test Shape: (1459, 80)\n",
      "Id                 int64\n",
      "MSSubClass         int64\n",
      "MSZoning          object\n",
      "LotFrontage      float64\n",
      "LotArea            int64\n",
      "                  ...   \n",
      "MoSold             int64\n",
      "YrSold             int64\n",
      "SaleType          object\n",
      "SaleCondition     object\n",
      "SalePrice          int64\n",
      "Length: 81, dtype: object\n"
     ]
    },
    {
     "data": {
      "text/html": [
       "<div>\n",
       "<style scoped>\n",
       "    .dataframe tbody tr th:only-of-type {\n",
       "        vertical-align: middle;\n",
       "    }\n",
       "\n",
       "    .dataframe tbody tr th {\n",
       "        vertical-align: top;\n",
       "    }\n",
       "\n",
       "    .dataframe thead th {\n",
       "        text-align: right;\n",
       "    }\n",
       "</style>\n",
       "<table border=\"1\" class=\"dataframe\">\n",
       "  <thead>\n",
       "    <tr style=\"text-align: right;\">\n",
       "      <th></th>\n",
       "      <th>Id</th>\n",
       "      <th>MSSubClass</th>\n",
       "      <th>MSZoning</th>\n",
       "      <th>LotFrontage</th>\n",
       "      <th>LotArea</th>\n",
       "      <th>Street</th>\n",
       "      <th>Alley</th>\n",
       "      <th>LotShape</th>\n",
       "      <th>LandContour</th>\n",
       "      <th>Utilities</th>\n",
       "      <th>...</th>\n",
       "      <th>PoolArea</th>\n",
       "      <th>PoolQC</th>\n",
       "      <th>Fence</th>\n",
       "      <th>MiscFeature</th>\n",
       "      <th>MiscVal</th>\n",
       "      <th>MoSold</th>\n",
       "      <th>YrSold</th>\n",
       "      <th>SaleType</th>\n",
       "      <th>SaleCondition</th>\n",
       "      <th>SalePrice</th>\n",
       "    </tr>\n",
       "  </thead>\n",
       "  <tbody>\n",
       "    <tr>\n",
       "      <th>0</th>\n",
       "      <td>1</td>\n",
       "      <td>60</td>\n",
       "      <td>RL</td>\n",
       "      <td>65.0</td>\n",
       "      <td>8450</td>\n",
       "      <td>Pave</td>\n",
       "      <td>NaN</td>\n",
       "      <td>Reg</td>\n",
       "      <td>Lvl</td>\n",
       "      <td>AllPub</td>\n",
       "      <td>...</td>\n",
       "      <td>0</td>\n",
       "      <td>NaN</td>\n",
       "      <td>NaN</td>\n",
       "      <td>NaN</td>\n",
       "      <td>0</td>\n",
       "      <td>2</td>\n",
       "      <td>2008</td>\n",
       "      <td>WD</td>\n",
       "      <td>Normal</td>\n",
       "      <td>208500</td>\n",
       "    </tr>\n",
       "    <tr>\n",
       "      <th>1</th>\n",
       "      <td>2</td>\n",
       "      <td>20</td>\n",
       "      <td>RL</td>\n",
       "      <td>80.0</td>\n",
       "      <td>9600</td>\n",
       "      <td>Pave</td>\n",
       "      <td>NaN</td>\n",
       "      <td>Reg</td>\n",
       "      <td>Lvl</td>\n",
       "      <td>AllPub</td>\n",
       "      <td>...</td>\n",
       "      <td>0</td>\n",
       "      <td>NaN</td>\n",
       "      <td>NaN</td>\n",
       "      <td>NaN</td>\n",
       "      <td>0</td>\n",
       "      <td>5</td>\n",
       "      <td>2007</td>\n",
       "      <td>WD</td>\n",
       "      <td>Normal</td>\n",
       "      <td>181500</td>\n",
       "    </tr>\n",
       "  </tbody>\n",
       "</table>\n",
       "<p>2 rows × 81 columns</p>\n",
       "</div>"
      ],
      "text/plain": [
       "   Id  MSSubClass MSZoning  LotFrontage  LotArea Street Alley LotShape  \\\n",
       "0   1          60       RL         65.0     8450   Pave   NaN      Reg   \n",
       "1   2          20       RL         80.0     9600   Pave   NaN      Reg   \n",
       "\n",
       "  LandContour Utilities  ... PoolArea PoolQC Fence MiscFeature MiscVal MoSold  \\\n",
       "0         Lvl    AllPub  ...        0    NaN   NaN         NaN       0      2   \n",
       "1         Lvl    AllPub  ...        0    NaN   NaN         NaN       0      5   \n",
       "\n",
       "  YrSold  SaleType  SaleCondition  SalePrice  \n",
       "0   2008        WD         Normal     208500  \n",
       "1   2007        WD         Normal     181500  \n",
       "\n",
       "[2 rows x 81 columns]"
      ]
     },
     "execution_count": 3,
     "metadata": {},
     "output_type": "execute_result"
    }
   ],
   "source": [
    "#Read in data\n",
    "\n",
    "# house price data\n",
    "train_df_raw = pd.read_csv(\"data_raw\\\\train.csv\") \n",
    "test_df_raw = pd.read_csv(\"data_raw\\\\test.csv\")\n",
    "\n",
    "print(\"Train Shape:\", train_df_raw.shape)\n",
    "print(\"Test Shape:\", test_df_raw.shape)\n",
    "print(train_df_raw.dtypes)\n",
    "train_df_raw.head(2)"
   ]
  },
  {
   "cell_type": "markdown",
   "metadata": {},
   "source": [
    "### Check Missingness"
   ]
  },
  {
   "cell_type": "code",
   "execution_count": 47,
   "metadata": {},
   "outputs": [
    {
     "name": "stdout",
     "output_type": "stream",
     "text": [
      "LotFrontage      259\n",
      "Alley           1369\n",
      "MasVnrType         8\n",
      "MasVnrArea         8\n",
      "BsmtQual          37\n",
      "BsmtCond          37\n",
      "BsmtExposure      38\n",
      "BsmtFinType1      37\n",
      "BsmtFinType2      38\n",
      "Electrical         1\n",
      "FireplaceQu      690\n",
      "GarageType        81\n",
      "GarageYrBlt       81\n",
      "GarageFinish      81\n",
      "GarageQual        81\n",
      "GarageCond        81\n",
      "PoolQC          1453\n",
      "Fence           1179\n",
      "MiscFeature     1406\n",
      "dtype: int64\n",
      "\n",
      "LotFrontage     float64\n",
      "Alley            object\n",
      "MasVnrType       object\n",
      "MasVnrArea      float64\n",
      "BsmtQual         object\n",
      "BsmtCond         object\n",
      "BsmtExposure     object\n",
      "BsmtFinType1     object\n",
      "BsmtFinType2     object\n",
      "Electrical       object\n",
      "FireplaceQu      object\n",
      "GarageType       object\n",
      "GarageYrBlt     float64\n",
      "GarageFinish     object\n",
      "GarageQual       object\n",
      "GarageCond       object\n",
      "PoolQC           object\n",
      "Fence            object\n",
      "MiscFeature      object\n",
      "dtype: object\n",
      "\n",
      "Feature MasVnrType has NaN at following indices: [ 235  530  651  937  974  978 1244 1279]\n",
      "\n",
      "Number of features with missing data: 19\n"
     ]
    },
    {
     "data": {
      "image/png": "[encoded data removed]",
      "text/plain": [
       "<Figure size 144x144 with 1 Axes>"
      ]
     },
     "metadata": {
      "needs_background": "light"
     },
     "output_type": "display_data"
    },
    {
     "data": {
      "image/png": "[encoded data removed]",
      "text/plain": [
       "<Figure size 144x144 with 1 Axes>"
      ]
     },
     "metadata": {
      "needs_background": "light"
     },
     "output_type": "display_data"
    },
    {
     "data": {
      "image/png": "[encoded data removed]",
      "text/plain": [
       "<Figure size 144x144 with 1 Axes>"
      ]
     },
     "metadata": {
      "needs_background": "light"
     },
     "output_type": "display_data"
    },
    {
     "data": {
      "image/png": "[encoded data removed]",
      "text/plain": [
       "<Figure size 144x144 with 1 Axes>"
      ]
     },
     "metadata": {
      "needs_background": "light"
     },
     "output_type": "display_data"
    },
    {
     "data": {
      "image/png": "[encoded data removed]",
      "text/plain": [
       "<Figure size 144x144 with 1 Axes>"
      ]
     },
     "metadata": {
      "needs_background": "light"
     },
     "output_type": "display_data"
    },
    {
     "data": {
      "image/png": "[encoded data removed]",
      "text/plain": [
       "<Figure size 144x144 with 1 Axes>"
      ]
     },
     "metadata": {
      "needs_background": "light"
     },
     "output_type": "display_data"
    },
    {
     "data": {
      "image/png": "[encoded data removed]",
      "text/plain": [
       "<Figure size 144x144 with 1 Axes>"
      ]
     },
     "metadata": {
      "needs_background": "light"
     },
     "output_type": "display_data"
    },
    {
     "data": {
      "image/png": "[encoded data removed]",
      "text/plain": [
       "<Figure size 144x144 with 1 Axes>"
      ]
     },
     "metadata": {
      "needs_background": "light"
     },
     "output_type": "display_data"
    },
    {
     "data": {
      "image/png": "[encoded data removed]",
      "text/plain": [
       "<Figure size 144x144 with 1 Axes>"
      ]
     },
     "metadata": {
      "needs_background": "light"
     },
     "output_type": "display_data"
    },
    {
     "data": {
      "image/png": "[encoded data removed]",
      "text/plain": [
       "<Figure size 144x144 with 1 Axes>"
      ]
     },
     "metadata": {
      "needs_background": "light"
     },
     "output_type": "display_data"
    },
    {
     "data": {
      "image/png": "[encoded data removed]",
      "text/plain": [
       "<Figure size 144x144 with 1 Axes>"
      ]
     },
     "metadata": {
      "needs_background": "light"
     },
     "output_type": "display_data"
    },
    {
     "data": {
      "image/png": "[encoded data removed]",
      "text/plain": [
       "<Figure size 144x144 with 1 Axes>"
      ]
     },
     "metadata": {
      "needs_background": "light"
     },
     "output_type": "display_data"
    },
    {
     "data": {
      "image/png": "[encoded data removed]",
      "text/plain": [
       "<Figure size 144x144 with 1 Axes>"
      ]
     },
     "metadata": {
      "needs_background": "light"
     },
     "output_type": "display_data"
    },
    {
     "data": {
      "image/png": "[encoded data removed]",
      "text/plain": [
       "<Figure size 144x144 with 1 Axes>"
      ]
     },
     "metadata": {
      "needs_background": "light"
     },
     "output_type": "display_data"
    },
    {
     "data": {
      "image/png": "[encoded data removed]",
      "text/plain": [
       "<Figure size 144x144 with 1 Axes>"
      ]
     },
     "metadata": {
      "needs_background": "light"
     },
     "output_type": "display_data"
    },
    {
     "data": {
      "image/png": "[encoded data removed]",
      "text/plain": [
       "<Figure size 144x144 with 1 Axes>"
      ]
     },
     "metadata": {
      "needs_background": "light"
     },
     "output_type": "display_data"
    },
    {
     "data": {
      "image/png": "[encoded data removed]",
      "text/plain": [
       "<Figure size 144x144 with 1 Axes>"
      ]
     },
     "metadata": {
      "needs_background": "light"
     },
     "output_type": "display_data"
    },
    {
     "data": {
      "image/png": "[encoded data removed]",
      "text/plain": [
       "<Figure size 144x144 with 1 Axes>"
      ]
     },
     "metadata": {
      "needs_background": "light"
     },
     "output_type": "display_data"
    },
    {
     "data": {
      "image/png": "[encoded data removed]",
      "text/plain": [
       "<Figure size 144x144 with 1 Axes>"
      ]
     },
     "metadata": {
      "needs_background": "light"
     },
     "output_type": "display_data"
    }
   ],
   "source": [
    "# TRAINING DATA MISSINGNESS\n",
    "\n",
    "# Raw data has several columns with missing data\n",
    "print( train_df_raw.isnull().sum(axis=0)[train_df_raw.isnull().sum(axis=0) != 0])\n",
    "print(\"\")\n",
    "\n",
    "#Types of missing data\n",
    "df_missing_data = train_df_raw.isnull().sum(axis=0)[train_df_raw.isnull().sum(axis=0) != 0].index\n",
    "print(train_df_raw[df_missing_data].dtypes)\n",
    "print(\"\")\n",
    "\n",
    "# Code to see which sample Id has missing data per feature\n",
    "feature='MasVnrType'\n",
    "print(\"Feature %s has NaN at following indices:\" %feature, train_df_raw[\"Id\"][train_df_raw[feature].isnull()].unique())\n",
    "print(\"\")\n",
    "\n",
    "#histograms of features with missing data\n",
    "print(\"Number of features with missing data:\", len(df_missing_data))\n",
    "for i in range(len(df_missing_data)):\n",
    "    train_df_raw[df_missing_data[i]].hist(figsize=(2,2))\n",
    "    plt.show()"
   ]
  },
  {
   "cell_type": "code",
   "execution_count": 46,
   "metadata": {},
   "outputs": [
    {
     "name": "stdout",
     "output_type": "stream",
     "text": [
      "MSZoning           4\n",
      "LotFrontage      227\n",
      "Alley           1352\n",
      "Utilities          2\n",
      "Exterior1st        1\n",
      "Exterior2nd        1\n",
      "MasVnrType        16\n",
      "MasVnrArea        15\n",
      "BsmtQual          44\n",
      "BsmtCond          45\n",
      "BsmtExposure      44\n",
      "BsmtFinType1      42\n",
      "BsmtFinSF1         1\n",
      "BsmtFinType2      42\n",
      "BsmtFinSF2         1\n",
      "BsmtUnfSF          1\n",
      "TotalBsmtSF        1\n",
      "BsmtFullBath       2\n",
      "BsmtHalfBath       2\n",
      "KitchenQual        1\n",
      "Functional         2\n",
      "FireplaceQu      730\n",
      "GarageType        76\n",
      "GarageYrBlt       78\n",
      "GarageFinish      78\n",
      "GarageCars         1\n",
      "GarageArea         1\n",
      "GarageQual        78\n",
      "GarageCond        78\n",
      "PoolQC          1456\n",
      "Fence           1169\n",
      "MiscFeature     1408\n",
      "SaleType           1\n",
      "dtype: int64\n",
      "\n",
      "MSZoning         object\n",
      "LotFrontage     float64\n",
      "Alley            object\n",
      "Utilities        object\n",
      "Exterior1st      object\n",
      "Exterior2nd      object\n",
      "MasVnrType       object\n",
      "MasVnrArea      float64\n",
      "BsmtQual         object\n",
      "BsmtCond         object\n",
      "BsmtExposure     object\n",
      "BsmtFinType1     object\n",
      "BsmtFinSF1      float64\n",
      "BsmtFinType2     object\n",
      "BsmtFinSF2      float64\n",
      "BsmtUnfSF       float64\n",
      "TotalBsmtSF     float64\n",
      "BsmtFullBath    float64\n",
      "BsmtHalfBath    float64\n",
      "KitchenQual      object\n",
      "Functional       object\n",
      "FireplaceQu      object\n",
      "GarageType       object\n",
      "GarageYrBlt     float64\n",
      "GarageFinish     object\n",
      "GarageCars      float64\n",
      "GarageArea      float64\n",
      "GarageQual       object\n",
      "GarageCond       object\n",
      "PoolQC           object\n",
      "Fence            object\n",
      "MiscFeature      object\n",
      "SaleType         object\n",
      "dtype: object\n",
      "\n",
      "Feature MasVnrType has NaN at following indices: [1692 1707 1883 1993 2005 2042 2312 2326 2341 2350 2369 2593 2611 2658\n",
      " 2687 2863]\n",
      "\n",
      "Number of features with missing data: 33\n"
     ]
    },
    {
     "data": {
      "image/png": "[encoded data removed]",
      "text/plain": [
       "<Figure size 144x144 with 1 Axes>"
      ]
     },
     "metadata": {
      "needs_background": "light"
     },
     "output_type": "display_data"
    },
    {
     "data": {
      "image/png": "[encoded data removed]",
      "text/plain": [
       "<Figure size 144x144 with 1 Axes>"
      ]
     },
     "metadata": {
      "needs_background": "light"
     },
     "output_type": "display_data"
    },
    {
     "data": {
      "image/png": "[encoded data removed]",
      "text/plain": [
       "<Figure size 144x144 with 1 Axes>"
      ]
     },
     "metadata": {
      "needs_background": "light"
     },
     "output_type": "display_data"
    },
    {
     "data": {
      "image/png": "[encoded data removed]",
      "text/plain": [
       "<Figure size 144x144 with 1 Axes>"
      ]
     },
     "metadata": {
      "needs_background": "light"
     },
     "output_type": "display_data"
    },
    {
     "data": {
      "image/png": "[encoded data removed]",
      "text/plain": [
       "<Figure size 144x144 with 1 Axes>"
      ]
     },
     "metadata": {
      "needs_background": "light"
     },
     "output_type": "display_data"
    },
    {
     "data": {
      "image/png": "[encoded data removed]",
      "text/plain": [
       "<Figure size 144x144 with 1 Axes>"
      ]
     },
     "metadata": {
      "needs_background": "light"
     },
     "output_type": "display_data"
    },
    {
     "data": {
      "image/png": "[encoded data removed]",
      "text/plain": [
       "<Figure size 144x144 with 1 Axes>"
      ]
     },
     "metadata": {
      "needs_background": "light"
     },
     "output_type": "display_data"
    },
    {
     "data": {
      "image/png": "[encoded data removed]",
      "text/plain": [
       "<Figure size 144x144 with 1 Axes>"
      ]
     },
     "metadata": {
      "needs_background": "light"
     },
     "output_type": "display_data"
    },
    {
     "data": {
      "image/png": "[encoded data removed]",
      "text/plain": [
       "<Figure size 144x144 with 1 Axes>"
      ]
     },
     "metadata": {
      "needs_background": "light"
     },
     "output_type": "display_data"
    },
    {
     "data": {
      "image/png": "[encoded data removed]",
      "text/plain": [
       "<Figure size 144x144 with 1 Axes>"
      ]
     },
     "metadata": {
      "needs_background": "light"
     },
     "output_type": "display_data"
    },
    {
     "data": {
      "image/png": "[encoded data removed]",
      "text/plain": [
       "<Figure size 144x144 with 1 Axes>"
      ]
     },
     "metadata": {
      "needs_background": "light"
     },
     "output_type": "display_data"
    },
    {
     "data": {
      "image/png": "[encoded data removed]",
      "text/plain": [
       "<Figure size 144x144 with 1 Axes>"
      ]
     },
     "metadata": {
      "needs_background": "light"
     },
     "output_type": "display_data"
    },
    {
     "data": {
      "image/png": "[encoded data removed]",
      "text/plain": [
       "<Figure size 144x144 with 1 Axes>"
      ]
     },
     "metadata": {
      "needs_background": "light"
     },
     "output_type": "display_data"
    },
    {
     "data": {
      "image/png": "[encoded data removed]",
      "text/plain": [
       "<Figure size 144x144 with 1 Axes>"
      ]
     },
     "metadata": {
      "needs_background": "light"
     },
     "output_type": "display_data"
    },
    {
     "data": {
      "image/png": "[encoded data removed]",
      "text/plain": [
       "<Figure size 144x144 with 1 Axes>"
      ]
     },
     "metadata": {
      "needs_background": "light"
     },
     "output_type": "display_data"
    },
    {
     "data": {
      "image/png": "[encoded data removed]",
      "text/plain": [
       "<Figure size 144x144 with 1 Axes>"
      ]
     },
     "metadata": {
      "needs_background": "light"
     },
     "output_type": "display_data"
    },
    {
     "data": {
      "image/png": "[encoded data removed]",
      "text/plain": [
       "<Figure size 144x144 with 1 Axes>"
      ]
     },
     "metadata": {
      "needs_background": "light"
     },
     "output_type": "display_data"
    },
    {
     "data": {
      "image/png": "[encoded data removed]",
      "text/plain": [
       "<Figure size 144x144 with 1 Axes>"
      ]
     },
     "metadata": {
      "needs_background": "light"
     },
     "output_type": "display_data"
    },
    {
     "data": {
      "image/png": "[encoded data removed]",
      "text/plain": [
       "<Figure size 144x144 with 1 Axes>"
      ]
     },
     "metadata": {
      "needs_background": "light"
     },
     "output_type": "display_data"
    },
    {
     "data": {
      "image/png": "[encoded data removed]",
      "text/plain": [
       "<Figure size 144x144 with 1 Axes>"
      ]
     },
     "metadata": {
      "needs_background": "light"
     },
     "output_type": "display_data"
    },
    {
     "data": {
      "image/png": "[encoded data removed]",
      "text/plain": [
       "<Figure size 144x144 with 1 Axes>"
      ]
     },
     "metadata": {
      "needs_background": "light"
     },
     "output_type": "display_data"
    },
    {
     "data": {
      "image/png": "[encoded data removed]",
      "text/plain": [
       "<Figure size 144x144 with 1 Axes>"
      ]
     },
     "metadata": {
      "needs_background": "light"
     },
     "output_type": "display_data"
    },
    {
     "data": {
      "image/png": "[encoded data removed]",
      "text/plain": [
       "<Figure size 144x144 with 1 Axes>"
      ]
     },
     "metadata": {
      "needs_background": "light"
     },
     "output_type": "display_data"
    },
    {
     "data": {
      "image/png": "[encoded data removed]",
      "text/plain": [
       "<Figure size 144x144 with 1 Axes>"
      ]
     },
     "metadata": {
      "needs_background": "light"
     },
     "output_type": "display_data"
    },
    {
     "data": {
      "image/png": "[encoded data removed]",
      "text/plain": [
       "<Figure size 144x144 with 1 Axes>"
      ]
     },
     "metadata": {
      "needs_background": "light"
     },
     "output_type": "display_data"
    },
    {
     "data": {
      "image/png": "[encoded data removed]",
      "text/plain": [
       "<Figure size 144x144 with 1 Axes>"
      ]
     },
     "metadata": {
      "needs_background": "light"
     },
     "output_type": "display_data"
    },
    {
     "data": {
      "image/png": "[encoded data removed]",
      "text/plain": [
       "<Figure size 144x144 with 1 Axes>"
      ]
     },
     "metadata": {
      "needs_background": "light"
     },
     "output_type": "display_data"
    },
    {
     "data": {
      "image/png": "[encoded data removed]",
      "text/plain": [
       "<Figure size 144x144 with 1 Axes>"
      ]
     },
     "metadata": {
      "needs_background": "light"
     },
     "output_type": "display_data"
    },
    {
     "data": {
      "image/png": "[encoded data removed]",
      "text/plain": [
       "<Figure size 144x144 with 1 Axes>"
      ]
     },
     "metadata": {
      "needs_background": "light"
     },
     "output_type": "display_data"
    },
    {
     "data": {
      "image/png": "[encoded data removed]",
      "text/plain": [
       "<Figure size 144x144 with 1 Axes>"
      ]
     },
     "metadata": {
      "needs_background": "light"
     },
     "output_type": "display_data"
    },
    {
     "data": {
      "image/png": "[encoded data removed]",
      "text/plain": [
       "<Figure size 144x144 with 1 Axes>"
      ]
     },
     "metadata": {
      "needs_background": "light"
     },
     "output_type": "display_data"
    },
    {
     "data": {
      "image/png": "[encoded data removed]",
      "text/plain": [
       "<Figure size 144x144 with 1 Axes>"
      ]
     },
     "metadata": {
      "needs_background": "light"
     },
     "output_type": "display_data"
    },
    {
     "data": {
      "image/png": "[encoded data removed]",
      "text/plain": [
       "<Figure size 144x144 with 1 Axes>"
      ]
     },
     "metadata": {
      "needs_background": "light"
     },
     "output_type": "display_data"
    }
   ],
   "source": [
    "# TEST DATA MISSINGNESS\n",
    "\n",
    "# Raw data has several columns with missing data\n",
    "print( test_df_raw.isnull().sum(axis=0)[test_df_raw.isnull().sum(axis=0) != 0])\n",
    "print(\"\")\n",
    "\n",
    "#Types of missing data\n",
    "df_missing_data2 = test_df_raw.isnull().sum(axis=0)[test_df_raw.isnull().sum(axis=0) != 0].index\n",
    "print(test_df_raw[df_missing_data2].dtypes)\n",
    "print(\"\")\n",
    "\n",
    "# Code to see which sample Id has missing data per feature\n",
    "feature='MasVnrType'\n",
    "print(\"Feature %s has NaN at following indices:\" %feature, test_df_raw[\"Id\"][test_df_raw[feature].isnull()].unique())\n",
    "print(\"\")\n",
    "\n",
    "#histograms of features with missing data\n",
    "print(\"Number of features with missing data:\", len(df_missing_data2))\n",
    "for i in range(len(df_missing_data2)):\n",
    "    test_df_raw[df_missing_data2[i]].hist(figsize=(2,2))\n",
    "    plt.show()"
   ]
  },
  {
   "cell_type": "code",
   "execution_count": 44,
   "metadata": {},
   "outputs": [
    {
     "name": "stdout",
     "output_type": "stream",
     "text": [
      "Train Data w/ NaN? -> Series([], dtype: int64)\n",
      "Test Data w/ NaN? -> Series([], dtype: int64)\n",
      "(1460, 62)\n",
      "(1459, 47)\n"
     ]
    }
   ],
   "source": [
    "#Drop columns with NA rows\n",
    "train_df=train_df_raw.dropna(axis=1)\n",
    "test_df=test_df_raw.dropna(axis=1)\n",
    "\n",
    "# check if dropping NA worked\n",
    "print(\"Train Data w/ NaN? ->\", train_df.isnull().sum(axis=0)[train_df.isnull().sum(axis=0) != 0])\n",
    "print(\"Test Data w/ NaN? ->\", test_df.isnull().sum(axis=0)[test_df.isnull().sum(axis=0) != 0])\n",
    "#Series is empty means all the NaN data is removed.\n",
    "\n",
    "print(train_df.shape)\n",
    "print(test_df.shape)"
   ]
  },
  {
   "cell_type": "markdown",
   "metadata": {},
   "source": [
    "### Generate Summary Statistics"
   ]
  },
  {
   "cell_type": "code",
   "execution_count": 33,
   "metadata": {},
   "outputs": [
    {
     "data": {
      "text/html": [
       "<div>\n",
       "<style scoped>\n",
       "    .dataframe tbody tr th:only-of-type {\n",
       "        vertical-align: middle;\n",
       "    }\n",
       "\n",
       "    .dataframe tbody tr th {\n",
       "        vertical-align: top;\n",
       "    }\n",
       "\n",
       "    .dataframe thead th {\n",
       "        text-align: right;\n",
       "    }\n",
       "</style>\n",
       "<table border=\"1\" class=\"dataframe\">\n",
       "  <thead>\n",
       "    <tr style=\"text-align: right;\">\n",
       "      <th></th>\n",
       "      <th>Id</th>\n",
       "      <th>MSSubClass</th>\n",
       "      <th>MSZoning</th>\n",
       "      <th>LotArea</th>\n",
       "      <th>Street</th>\n",
       "      <th>LotShape</th>\n",
       "      <th>LandContour</th>\n",
       "      <th>Utilities</th>\n",
       "      <th>LotConfig</th>\n",
       "      <th>LandSlope</th>\n",
       "      <th>...</th>\n",
       "      <th>EnclosedPorch</th>\n",
       "      <th>3SsnPorch</th>\n",
       "      <th>ScreenPorch</th>\n",
       "      <th>PoolArea</th>\n",
       "      <th>MiscVal</th>\n",
       "      <th>MoSold</th>\n",
       "      <th>YrSold</th>\n",
       "      <th>SaleType</th>\n",
       "      <th>SaleCondition</th>\n",
       "      <th>SalePrice</th>\n",
       "    </tr>\n",
       "  </thead>\n",
       "  <tbody>\n",
       "    <tr>\n",
       "      <th>count</th>\n",
       "      <td>1460.000000</td>\n",
       "      <td>1460.000000</td>\n",
       "      <td>1460</td>\n",
       "      <td>1460.000000</td>\n",
       "      <td>1460</td>\n",
       "      <td>1460</td>\n",
       "      <td>1460</td>\n",
       "      <td>1460</td>\n",
       "      <td>1460</td>\n",
       "      <td>1460</td>\n",
       "      <td>...</td>\n",
       "      <td>1460.000000</td>\n",
       "      <td>1460.000000</td>\n",
       "      <td>1460.000000</td>\n",
       "      <td>1460.000000</td>\n",
       "      <td>1460.000000</td>\n",
       "      <td>1460.000000</td>\n",
       "      <td>1460.000000</td>\n",
       "      <td>1460</td>\n",
       "      <td>1460</td>\n",
       "      <td>1460.000000</td>\n",
       "    </tr>\n",
       "    <tr>\n",
       "      <th>unique</th>\n",
       "      <td>NaN</td>\n",
       "      <td>NaN</td>\n",
       "      <td>5</td>\n",
       "      <td>NaN</td>\n",
       "      <td>2</td>\n",
       "      <td>4</td>\n",
       "      <td>4</td>\n",
       "      <td>2</td>\n",
       "      <td>5</td>\n",
       "      <td>3</td>\n",
       "      <td>...</td>\n",
       "      <td>NaN</td>\n",
       "      <td>NaN</td>\n",
       "      <td>NaN</td>\n",
       "      <td>NaN</td>\n",
       "      <td>NaN</td>\n",
       "      <td>NaN</td>\n",
       "      <td>NaN</td>\n",
       "      <td>9</td>\n",
       "      <td>6</td>\n",
       "      <td>NaN</td>\n",
       "    </tr>\n",
       "    <tr>\n",
       "      <th>top</th>\n",
       "      <td>NaN</td>\n",
       "      <td>NaN</td>\n",
       "      <td>RL</td>\n",
       "      <td>NaN</td>\n",
       "      <td>Pave</td>\n",
       "      <td>Reg</td>\n",
       "      <td>Lvl</td>\n",
       "      <td>AllPub</td>\n",
       "      <td>Inside</td>\n",
       "      <td>Gtl</td>\n",
       "      <td>...</td>\n",
       "      <td>NaN</td>\n",
       "      <td>NaN</td>\n",
       "      <td>NaN</td>\n",
       "      <td>NaN</td>\n",
       "      <td>NaN</td>\n",
       "      <td>NaN</td>\n",
       "      <td>NaN</td>\n",
       "      <td>WD</td>\n",
       "      <td>Normal</td>\n",
       "      <td>NaN</td>\n",
       "    </tr>\n",
       "    <tr>\n",
       "      <th>freq</th>\n",
       "      <td>NaN</td>\n",
       "      <td>NaN</td>\n",
       "      <td>1151</td>\n",
       "      <td>NaN</td>\n",
       "      <td>1454</td>\n",
       "      <td>925</td>\n",
       "      <td>1311</td>\n",
       "      <td>1459</td>\n",
       "      <td>1052</td>\n",
       "      <td>1382</td>\n",
       "      <td>...</td>\n",
       "      <td>NaN</td>\n",
       "      <td>NaN</td>\n",
       "      <td>NaN</td>\n",
       "      <td>NaN</td>\n",
       "      <td>NaN</td>\n",
       "      <td>NaN</td>\n",
       "      <td>NaN</td>\n",
       "      <td>1267</td>\n",
       "      <td>1198</td>\n",
       "      <td>NaN</td>\n",
       "    </tr>\n",
       "    <tr>\n",
       "      <th>mean</th>\n",
       "      <td>730.500000</td>\n",
       "      <td>56.897260</td>\n",
       "      <td>NaN</td>\n",
       "      <td>10516.828082</td>\n",
       "      <td>NaN</td>\n",
       "      <td>NaN</td>\n",
       "      <td>NaN</td>\n",
       "      <td>NaN</td>\n",
       "      <td>NaN</td>\n",
       "      <td>NaN</td>\n",
       "      <td>...</td>\n",
       "      <td>21.954110</td>\n",
       "      <td>3.409589</td>\n",
       "      <td>15.060959</td>\n",
       "      <td>2.758904</td>\n",
       "      <td>43.489041</td>\n",
       "      <td>6.321918</td>\n",
       "      <td>2007.815753</td>\n",
       "      <td>NaN</td>\n",
       "      <td>NaN</td>\n",
       "      <td>180921.195890</td>\n",
       "    </tr>\n",
       "    <tr>\n",
       "      <th>std</th>\n",
       "      <td>421.610009</td>\n",
       "      <td>42.300571</td>\n",
       "      <td>NaN</td>\n",
       "      <td>9981.264932</td>\n",
       "      <td>NaN</td>\n",
       "      <td>NaN</td>\n",
       "      <td>NaN</td>\n",
       "      <td>NaN</td>\n",
       "      <td>NaN</td>\n",
       "      <td>NaN</td>\n",
       "      <td>...</td>\n",
       "      <td>61.119149</td>\n",
       "      <td>29.317331</td>\n",
       "      <td>55.757415</td>\n",
       "      <td>40.177307</td>\n",
       "      <td>496.123024</td>\n",
       "      <td>2.703626</td>\n",
       "      <td>1.328095</td>\n",
       "      <td>NaN</td>\n",
       "      <td>NaN</td>\n",
       "      <td>79442.502883</td>\n",
       "    </tr>\n",
       "    <tr>\n",
       "      <th>min</th>\n",
       "      <td>1.000000</td>\n",
       "      <td>20.000000</td>\n",
       "      <td>NaN</td>\n",
       "      <td>1300.000000</td>\n",
       "      <td>NaN</td>\n",
       "      <td>NaN</td>\n",
       "      <td>NaN</td>\n",
       "      <td>NaN</td>\n",
       "      <td>NaN</td>\n",
       "      <td>NaN</td>\n",
       "      <td>...</td>\n",
       "      <td>0.000000</td>\n",
       "      <td>0.000000</td>\n",
       "      <td>0.000000</td>\n",
       "      <td>0.000000</td>\n",
       "      <td>0.000000</td>\n",
       "      <td>1.000000</td>\n",
       "      <td>2006.000000</td>\n",
       "      <td>NaN</td>\n",
       "      <td>NaN</td>\n",
       "      <td>34900.000000</td>\n",
       "    </tr>\n",
       "    <tr>\n",
       "      <th>25%</th>\n",
       "      <td>365.750000</td>\n",
       "      <td>20.000000</td>\n",
       "      <td>NaN</td>\n",
       "      <td>7553.500000</td>\n",
       "      <td>NaN</td>\n",
       "      <td>NaN</td>\n",
       "      <td>NaN</td>\n",
       "      <td>NaN</td>\n",
       "      <td>NaN</td>\n",
       "      <td>NaN</td>\n",
       "      <td>...</td>\n",
       "      <td>0.000000</td>\n",
       "      <td>0.000000</td>\n",
       "      <td>0.000000</td>\n",
       "      <td>0.000000</td>\n",
       "      <td>0.000000</td>\n",
       "      <td>5.000000</td>\n",
       "      <td>2007.000000</td>\n",
       "      <td>NaN</td>\n",
       "      <td>NaN</td>\n",
       "      <td>129975.000000</td>\n",
       "    </tr>\n",
       "    <tr>\n",
       "      <th>50%</th>\n",
       "      <td>730.500000</td>\n",
       "      <td>50.000000</td>\n",
       "      <td>NaN</td>\n",
       "      <td>9478.500000</td>\n",
       "      <td>NaN</td>\n",
       "      <td>NaN</td>\n",
       "      <td>NaN</td>\n",
       "      <td>NaN</td>\n",
       "      <td>NaN</td>\n",
       "      <td>NaN</td>\n",
       "      <td>...</td>\n",
       "      <td>0.000000</td>\n",
       "      <td>0.000000</td>\n",
       "      <td>0.000000</td>\n",
       "      <td>0.000000</td>\n",
       "      <td>0.000000</td>\n",
       "      <td>6.000000</td>\n",
       "      <td>2008.000000</td>\n",
       "      <td>NaN</td>\n",
       "      <td>NaN</td>\n",
       "      <td>163000.000000</td>\n",
       "    </tr>\n",
       "    <tr>\n",
       "      <th>75%</th>\n",
       "      <td>1095.250000</td>\n",
       "      <td>70.000000</td>\n",
       "      <td>NaN</td>\n",
       "      <td>11601.500000</td>\n",
       "      <td>NaN</td>\n",
       "      <td>NaN</td>\n",
       "      <td>NaN</td>\n",
       "      <td>NaN</td>\n",
       "      <td>NaN</td>\n",
       "      <td>NaN</td>\n",
       "      <td>...</td>\n",
       "      <td>0.000000</td>\n",
       "      <td>0.000000</td>\n",
       "      <td>0.000000</td>\n",
       "      <td>0.000000</td>\n",
       "      <td>0.000000</td>\n",
       "      <td>8.000000</td>\n",
       "      <td>2009.000000</td>\n",
       "      <td>NaN</td>\n",
       "      <td>NaN</td>\n",
       "      <td>214000.000000</td>\n",
       "    </tr>\n",
       "    <tr>\n",
       "      <th>max</th>\n",
       "      <td>1460.000000</td>\n",
       "      <td>190.000000</td>\n",
       "      <td>NaN</td>\n",
       "      <td>215245.000000</td>\n",
       "      <td>NaN</td>\n",
       "      <td>NaN</td>\n",
       "      <td>NaN</td>\n",
       "      <td>NaN</td>\n",
       "      <td>NaN</td>\n",
       "      <td>NaN</td>\n",
       "      <td>...</td>\n",
       "      <td>552.000000</td>\n",
       "      <td>508.000000</td>\n",
       "      <td>480.000000</td>\n",
       "      <td>738.000000</td>\n",
       "      <td>15500.000000</td>\n",
       "      <td>12.000000</td>\n",
       "      <td>2010.000000</td>\n",
       "      <td>NaN</td>\n",
       "      <td>NaN</td>\n",
       "      <td>755000.000000</td>\n",
       "    </tr>\n",
       "  </tbody>\n",
       "</table>\n",
       "<p>11 rows × 62 columns</p>\n",
       "</div>"
      ],
      "text/plain": [
       "                 Id   MSSubClass MSZoning        LotArea Street LotShape  \\\n",
       "count   1460.000000  1460.000000     1460    1460.000000   1460     1460   \n",
       "unique          NaN          NaN        5            NaN      2        4   \n",
       "top             NaN          NaN       RL            NaN   Pave      Reg   \n",
       "freq            NaN          NaN     1151            NaN   1454      925   \n",
       "mean     730.500000    56.897260      NaN   10516.828082    NaN      NaN   \n",
       "std      421.610009    42.300571      NaN    9981.264932    NaN      NaN   \n",
       "min        1.000000    20.000000      NaN    1300.000000    NaN      NaN   \n",
       "25%      365.750000    20.000000      NaN    7553.500000    NaN      NaN   \n",
       "50%      730.500000    50.000000      NaN    9478.500000    NaN      NaN   \n",
       "75%     1095.250000    70.000000      NaN   11601.500000    NaN      NaN   \n",
       "max     1460.000000   190.000000      NaN  215245.000000    NaN      NaN   \n",
       "\n",
       "       LandContour Utilities LotConfig LandSlope  ... EnclosedPorch  \\\n",
       "count         1460      1460      1460      1460  ...   1460.000000   \n",
       "unique           4         2         5         3  ...           NaN   \n",
       "top            Lvl    AllPub    Inside       Gtl  ...           NaN   \n",
       "freq          1311      1459      1052      1382  ...           NaN   \n",
       "mean           NaN       NaN       NaN       NaN  ...     21.954110   \n",
       "std            NaN       NaN       NaN       NaN  ...     61.119149   \n",
       "min            NaN       NaN       NaN       NaN  ...      0.000000   \n",
       "25%            NaN       NaN       NaN       NaN  ...      0.000000   \n",
       "50%            NaN       NaN       NaN       NaN  ...      0.000000   \n",
       "75%            NaN       NaN       NaN       NaN  ...      0.000000   \n",
       "max            NaN       NaN       NaN       NaN  ...    552.000000   \n",
       "\n",
       "          3SsnPorch  ScreenPorch     PoolArea       MiscVal       MoSold  \\\n",
       "count   1460.000000  1460.000000  1460.000000   1460.000000  1460.000000   \n",
       "unique          NaN          NaN          NaN           NaN          NaN   \n",
       "top             NaN          NaN          NaN           NaN          NaN   \n",
       "freq            NaN          NaN          NaN           NaN          NaN   \n",
       "mean       3.409589    15.060959     2.758904     43.489041     6.321918   \n",
       "std       29.317331    55.757415    40.177307    496.123024     2.703626   \n",
       "min        0.000000     0.000000     0.000000      0.000000     1.000000   \n",
       "25%        0.000000     0.000000     0.000000      0.000000     5.000000   \n",
       "50%        0.000000     0.000000     0.000000      0.000000     6.000000   \n",
       "75%        0.000000     0.000000     0.000000      0.000000     8.000000   \n",
       "max      508.000000   480.000000   738.000000  15500.000000    12.000000   \n",
       "\n",
       "             YrSold  SaleType  SaleCondition      SalePrice  \n",
       "count   1460.000000      1460           1460    1460.000000  \n",
       "unique          NaN         9              6            NaN  \n",
       "top             NaN        WD         Normal            NaN  \n",
       "freq            NaN      1267           1198            NaN  \n",
       "mean    2007.815753       NaN            NaN  180921.195890  \n",
       "std        1.328095       NaN            NaN   79442.502883  \n",
       "min     2006.000000       NaN            NaN   34900.000000  \n",
       "25%     2007.000000       NaN            NaN  129975.000000  \n",
       "50%     2008.000000       NaN            NaN  163000.000000  \n",
       "75%     2009.000000       NaN            NaN  214000.000000  \n",
       "max     2010.000000       NaN            NaN  755000.000000  \n",
       "\n",
       "[11 rows x 62 columns]"
      ]
     },
     "execution_count": 33,
     "metadata": {},
     "output_type": "execute_result"
    }
   ],
   "source": [
    "train_df.describe(include = 'all')"
   ]
  },
  {
   "cell_type": "code",
   "execution_count": 32,
   "metadata": {},
   "outputs": [
    {
     "data": {
      "text/html": [
       "<div>\n",
       "<style scoped>\n",
       "    .dataframe tbody tr th:only-of-type {\n",
       "        vertical-align: middle;\n",
       "    }\n",
       "\n",
       "    .dataframe tbody tr th {\n",
       "        vertical-align: top;\n",
       "    }\n",
       "\n",
       "    .dataframe thead th {\n",
       "        text-align: right;\n",
       "    }\n",
       "</style>\n",
       "<table border=\"1\" class=\"dataframe\">\n",
       "  <thead>\n",
       "    <tr style=\"text-align: right;\">\n",
       "      <th></th>\n",
       "      <th>Id</th>\n",
       "      <th>MSSubClass</th>\n",
       "      <th>LotArea</th>\n",
       "      <th>Street</th>\n",
       "      <th>LotShape</th>\n",
       "      <th>LandContour</th>\n",
       "      <th>LotConfig</th>\n",
       "      <th>LandSlope</th>\n",
       "      <th>Neighborhood</th>\n",
       "      <th>Condition1</th>\n",
       "      <th>...</th>\n",
       "      <th>WoodDeckSF</th>\n",
       "      <th>OpenPorchSF</th>\n",
       "      <th>EnclosedPorch</th>\n",
       "      <th>3SsnPorch</th>\n",
       "      <th>ScreenPorch</th>\n",
       "      <th>PoolArea</th>\n",
       "      <th>MiscVal</th>\n",
       "      <th>MoSold</th>\n",
       "      <th>YrSold</th>\n",
       "      <th>SaleCondition</th>\n",
       "    </tr>\n",
       "  </thead>\n",
       "  <tbody>\n",
       "    <tr>\n",
       "      <th>count</th>\n",
       "      <td>1459.000000</td>\n",
       "      <td>1459.000000</td>\n",
       "      <td>1459.000000</td>\n",
       "      <td>1459</td>\n",
       "      <td>1459</td>\n",
       "      <td>1459</td>\n",
       "      <td>1459</td>\n",
       "      <td>1459</td>\n",
       "      <td>1459</td>\n",
       "      <td>1459</td>\n",
       "      <td>...</td>\n",
       "      <td>1459.000000</td>\n",
       "      <td>1459.000000</td>\n",
       "      <td>1459.000000</td>\n",
       "      <td>1459.000000</td>\n",
       "      <td>1459.000000</td>\n",
       "      <td>1459.000000</td>\n",
       "      <td>1459.000000</td>\n",
       "      <td>1459.000000</td>\n",
       "      <td>1459.000000</td>\n",
       "      <td>1459</td>\n",
       "    </tr>\n",
       "    <tr>\n",
       "      <th>unique</th>\n",
       "      <td>NaN</td>\n",
       "      <td>NaN</td>\n",
       "      <td>NaN</td>\n",
       "      <td>2</td>\n",
       "      <td>4</td>\n",
       "      <td>4</td>\n",
       "      <td>5</td>\n",
       "      <td>3</td>\n",
       "      <td>25</td>\n",
       "      <td>9</td>\n",
       "      <td>...</td>\n",
       "      <td>NaN</td>\n",
       "      <td>NaN</td>\n",
       "      <td>NaN</td>\n",
       "      <td>NaN</td>\n",
       "      <td>NaN</td>\n",
       "      <td>NaN</td>\n",
       "      <td>NaN</td>\n",
       "      <td>NaN</td>\n",
       "      <td>NaN</td>\n",
       "      <td>6</td>\n",
       "    </tr>\n",
       "    <tr>\n",
       "      <th>top</th>\n",
       "      <td>NaN</td>\n",
       "      <td>NaN</td>\n",
       "      <td>NaN</td>\n",
       "      <td>Pave</td>\n",
       "      <td>Reg</td>\n",
       "      <td>Lvl</td>\n",
       "      <td>Inside</td>\n",
       "      <td>Gtl</td>\n",
       "      <td>NAmes</td>\n",
       "      <td>Norm</td>\n",
       "      <td>...</td>\n",
       "      <td>NaN</td>\n",
       "      <td>NaN</td>\n",
       "      <td>NaN</td>\n",
       "      <td>NaN</td>\n",
       "      <td>NaN</td>\n",
       "      <td>NaN</td>\n",
       "      <td>NaN</td>\n",
       "      <td>NaN</td>\n",
       "      <td>NaN</td>\n",
       "      <td>Normal</td>\n",
       "    </tr>\n",
       "    <tr>\n",
       "      <th>freq</th>\n",
       "      <td>NaN</td>\n",
       "      <td>NaN</td>\n",
       "      <td>NaN</td>\n",
       "      <td>1453</td>\n",
       "      <td>934</td>\n",
       "      <td>1311</td>\n",
       "      <td>1081</td>\n",
       "      <td>1396</td>\n",
       "      <td>218</td>\n",
       "      <td>1251</td>\n",
       "      <td>...</td>\n",
       "      <td>NaN</td>\n",
       "      <td>NaN</td>\n",
       "      <td>NaN</td>\n",
       "      <td>NaN</td>\n",
       "      <td>NaN</td>\n",
       "      <td>NaN</td>\n",
       "      <td>NaN</td>\n",
       "      <td>NaN</td>\n",
       "      <td>NaN</td>\n",
       "      <td>1204</td>\n",
       "    </tr>\n",
       "    <tr>\n",
       "      <th>mean</th>\n",
       "      <td>2190.000000</td>\n",
       "      <td>57.378341</td>\n",
       "      <td>9819.161069</td>\n",
       "      <td>NaN</td>\n",
       "      <td>NaN</td>\n",
       "      <td>NaN</td>\n",
       "      <td>NaN</td>\n",
       "      <td>NaN</td>\n",
       "      <td>NaN</td>\n",
       "      <td>NaN</td>\n",
       "      <td>...</td>\n",
       "      <td>93.174777</td>\n",
       "      <td>48.313914</td>\n",
       "      <td>24.243317</td>\n",
       "      <td>1.794380</td>\n",
       "      <td>17.064428</td>\n",
       "      <td>1.744345</td>\n",
       "      <td>58.167923</td>\n",
       "      <td>6.104181</td>\n",
       "      <td>2007.769705</td>\n",
       "      <td>NaN</td>\n",
       "    </tr>\n",
       "    <tr>\n",
       "      <th>std</th>\n",
       "      <td>421.321334</td>\n",
       "      <td>42.746880</td>\n",
       "      <td>4955.517327</td>\n",
       "      <td>NaN</td>\n",
       "      <td>NaN</td>\n",
       "      <td>NaN</td>\n",
       "      <td>NaN</td>\n",
       "      <td>NaN</td>\n",
       "      <td>NaN</td>\n",
       "      <td>NaN</td>\n",
       "      <td>...</td>\n",
       "      <td>127.744882</td>\n",
       "      <td>68.883364</td>\n",
       "      <td>67.227765</td>\n",
       "      <td>20.207842</td>\n",
       "      <td>56.609763</td>\n",
       "      <td>30.491646</td>\n",
       "      <td>630.806978</td>\n",
       "      <td>2.722432</td>\n",
       "      <td>1.301740</td>\n",
       "      <td>NaN</td>\n",
       "    </tr>\n",
       "    <tr>\n",
       "      <th>min</th>\n",
       "      <td>1461.000000</td>\n",
       "      <td>20.000000</td>\n",
       "      <td>1470.000000</td>\n",
       "      <td>NaN</td>\n",
       "      <td>NaN</td>\n",
       "      <td>NaN</td>\n",
       "      <td>NaN</td>\n",
       "      <td>NaN</td>\n",
       "      <td>NaN</td>\n",
       "      <td>NaN</td>\n",
       "      <td>...</td>\n",
       "      <td>0.000000</td>\n",
       "      <td>0.000000</td>\n",
       "      <td>0.000000</td>\n",
       "      <td>0.000000</td>\n",
       "      <td>0.000000</td>\n",
       "      <td>0.000000</td>\n",
       "      <td>0.000000</td>\n",
       "      <td>1.000000</td>\n",
       "      <td>2006.000000</td>\n",
       "      <td>NaN</td>\n",
       "    </tr>\n",
       "    <tr>\n",
       "      <th>25%</th>\n",
       "      <td>1825.500000</td>\n",
       "      <td>20.000000</td>\n",
       "      <td>7391.000000</td>\n",
       "      <td>NaN</td>\n",
       "      <td>NaN</td>\n",
       "      <td>NaN</td>\n",
       "      <td>NaN</td>\n",
       "      <td>NaN</td>\n",
       "      <td>NaN</td>\n",
       "      <td>NaN</td>\n",
       "      <td>...</td>\n",
       "      <td>0.000000</td>\n",
       "      <td>0.000000</td>\n",
       "      <td>0.000000</td>\n",
       "      <td>0.000000</td>\n",
       "      <td>0.000000</td>\n",
       "      <td>0.000000</td>\n",
       "      <td>0.000000</td>\n",
       "      <td>4.000000</td>\n",
       "      <td>2007.000000</td>\n",
       "      <td>NaN</td>\n",
       "    </tr>\n",
       "    <tr>\n",
       "      <th>50%</th>\n",
       "      <td>2190.000000</td>\n",
       "      <td>50.000000</td>\n",
       "      <td>9399.000000</td>\n",
       "      <td>NaN</td>\n",
       "      <td>NaN</td>\n",
       "      <td>NaN</td>\n",
       "      <td>NaN</td>\n",
       "      <td>NaN</td>\n",
       "      <td>NaN</td>\n",
       "      <td>NaN</td>\n",
       "      <td>...</td>\n",
       "      <td>0.000000</td>\n",
       "      <td>28.000000</td>\n",
       "      <td>0.000000</td>\n",
       "      <td>0.000000</td>\n",
       "      <td>0.000000</td>\n",
       "      <td>0.000000</td>\n",
       "      <td>0.000000</td>\n",
       "      <td>6.000000</td>\n",
       "      <td>2008.000000</td>\n",
       "      <td>NaN</td>\n",
       "    </tr>\n",
       "    <tr>\n",
       "      <th>75%</th>\n",
       "      <td>2554.500000</td>\n",
       "      <td>70.000000</td>\n",
       "      <td>11517.500000</td>\n",
       "      <td>NaN</td>\n",
       "      <td>NaN</td>\n",
       "      <td>NaN</td>\n",
       "      <td>NaN</td>\n",
       "      <td>NaN</td>\n",
       "      <td>NaN</td>\n",
       "      <td>NaN</td>\n",
       "      <td>...</td>\n",
       "      <td>168.000000</td>\n",
       "      <td>72.000000</td>\n",
       "      <td>0.000000</td>\n",
       "      <td>0.000000</td>\n",
       "      <td>0.000000</td>\n",
       "      <td>0.000000</td>\n",
       "      <td>0.000000</td>\n",
       "      <td>8.000000</td>\n",
       "      <td>2009.000000</td>\n",
       "      <td>NaN</td>\n",
       "    </tr>\n",
       "    <tr>\n",
       "      <th>max</th>\n",
       "      <td>2919.000000</td>\n",
       "      <td>190.000000</td>\n",
       "      <td>56600.000000</td>\n",
       "      <td>NaN</td>\n",
       "      <td>NaN</td>\n",
       "      <td>NaN</td>\n",
       "      <td>NaN</td>\n",
       "      <td>NaN</td>\n",
       "      <td>NaN</td>\n",
       "      <td>NaN</td>\n",
       "      <td>...</td>\n",
       "      <td>1424.000000</td>\n",
       "      <td>742.000000</td>\n",
       "      <td>1012.000000</td>\n",
       "      <td>360.000000</td>\n",
       "      <td>576.000000</td>\n",
       "      <td>800.000000</td>\n",
       "      <td>17000.000000</td>\n",
       "      <td>12.000000</td>\n",
       "      <td>2010.000000</td>\n",
       "      <td>NaN</td>\n",
       "    </tr>\n",
       "  </tbody>\n",
       "</table>\n",
       "<p>11 rows × 47 columns</p>\n",
       "</div>"
      ],
      "text/plain": [
       "                 Id   MSSubClass       LotArea Street LotShape LandContour  \\\n",
       "count   1459.000000  1459.000000   1459.000000   1459     1459        1459   \n",
       "unique          NaN          NaN           NaN      2        4           4   \n",
       "top             NaN          NaN           NaN   Pave      Reg         Lvl   \n",
       "freq            NaN          NaN           NaN   1453      934        1311   \n",
       "mean    2190.000000    57.378341   9819.161069    NaN      NaN         NaN   \n",
       "std      421.321334    42.746880   4955.517327    NaN      NaN         NaN   \n",
       "min     1461.000000    20.000000   1470.000000    NaN      NaN         NaN   \n",
       "25%     1825.500000    20.000000   7391.000000    NaN      NaN         NaN   \n",
       "50%     2190.000000    50.000000   9399.000000    NaN      NaN         NaN   \n",
       "75%     2554.500000    70.000000  11517.500000    NaN      NaN         NaN   \n",
       "max     2919.000000   190.000000  56600.000000    NaN      NaN         NaN   \n",
       "\n",
       "       LotConfig LandSlope Neighborhood Condition1  ...   WoodDeckSF  \\\n",
       "count       1459      1459         1459       1459  ...  1459.000000   \n",
       "unique         5         3           25          9  ...          NaN   \n",
       "top       Inside       Gtl        NAmes       Norm  ...          NaN   \n",
       "freq        1081      1396          218       1251  ...          NaN   \n",
       "mean         NaN       NaN          NaN        NaN  ...    93.174777   \n",
       "std          NaN       NaN          NaN        NaN  ...   127.744882   \n",
       "min          NaN       NaN          NaN        NaN  ...     0.000000   \n",
       "25%          NaN       NaN          NaN        NaN  ...     0.000000   \n",
       "50%          NaN       NaN          NaN        NaN  ...     0.000000   \n",
       "75%          NaN       NaN          NaN        NaN  ...   168.000000   \n",
       "max          NaN       NaN          NaN        NaN  ...  1424.000000   \n",
       "\n",
       "        OpenPorchSF EnclosedPorch    3SsnPorch  ScreenPorch     PoolArea  \\\n",
       "count   1459.000000   1459.000000  1459.000000  1459.000000  1459.000000   \n",
       "unique          NaN           NaN          NaN          NaN          NaN   \n",
       "top             NaN           NaN          NaN          NaN          NaN   \n",
       "freq            NaN           NaN          NaN          NaN          NaN   \n",
       "mean      48.313914     24.243317     1.794380    17.064428     1.744345   \n",
       "std       68.883364     67.227765    20.207842    56.609763    30.491646   \n",
       "min        0.000000      0.000000     0.000000     0.000000     0.000000   \n",
       "25%        0.000000      0.000000     0.000000     0.000000     0.000000   \n",
       "50%       28.000000      0.000000     0.000000     0.000000     0.000000   \n",
       "75%       72.000000      0.000000     0.000000     0.000000     0.000000   \n",
       "max      742.000000   1012.000000   360.000000   576.000000   800.000000   \n",
       "\n",
       "             MiscVal       MoSold       YrSold SaleCondition  \n",
       "count    1459.000000  1459.000000  1459.000000          1459  \n",
       "unique           NaN          NaN          NaN             6  \n",
       "top              NaN          NaN          NaN        Normal  \n",
       "freq             NaN          NaN          NaN          1204  \n",
       "mean       58.167923     6.104181  2007.769705           NaN  \n",
       "std       630.806978     2.722432     1.301740           NaN  \n",
       "min         0.000000     1.000000  2006.000000           NaN  \n",
       "25%         0.000000     4.000000  2007.000000           NaN  \n",
       "50%         0.000000     6.000000  2008.000000           NaN  \n",
       "75%         0.000000     8.000000  2009.000000           NaN  \n",
       "max     17000.000000    12.000000  2010.000000           NaN  \n",
       "\n",
       "[11 rows x 47 columns]"
      ]
     },
     "execution_count": 32,
     "metadata": {},
     "output_type": "execute_result"
    }
   ],
   "source": [
    "test_df.describe(include = 'all')"
   ]
  },
  {
   "cell_type": "code",
   "execution_count": 38,
   "metadata": {},
   "outputs": [
    {
     "name": "stdout",
     "output_type": "stream",
     "text": [
      "Duplicates in Train Data: 0\n",
      "Duplicates in Test Data: 0\n"
     ]
    }
   ],
   "source": [
    "#Duplicates?\n",
    "\n",
    "# There are no perfectly duplicated rows\n",
    "print(\"Duplicates in Train Data:\",sum(train_df.duplicated()))\n",
    "print(\"Duplicates in Test Data:\",sum(test_df.duplicated()))"
   ]
  },
  {
   "cell_type": "markdown",
   "metadata": {},
   "source": [
    "### Train/Dev Data with a few columns"
   ]
  },
  {
   "cell_type": "code",
   "execution_count": 42,
   "metadata": {},
   "outputs": [
    {
     "data": {
      "text/html": [
       "<div>\n",
       "<style scoped>\n",
       "    .dataframe tbody tr th:only-of-type {\n",
       "        vertical-align: middle;\n",
       "    }\n",
       "\n",
       "    .dataframe tbody tr th {\n",
       "        vertical-align: top;\n",
       "    }\n",
       "\n",
       "    .dataframe thead th {\n",
       "        text-align: right;\n",
       "    }\n",
       "</style>\n",
       "<table border=\"1\" class=\"dataframe\">\n",
       "  <thead>\n",
       "    <tr style=\"text-align: right;\">\n",
       "      <th></th>\n",
       "      <th>GrLivArea</th>\n",
       "      <th>TotalBsmtSF</th>\n",
       "      <th>SalePrice</th>\n",
       "    </tr>\n",
       "  </thead>\n",
       "  <tbody>\n",
       "    <tr>\n",
       "      <th>0</th>\n",
       "      <td>1710</td>\n",
       "      <td>856</td>\n",
       "      <td>208500</td>\n",
       "    </tr>\n",
       "    <tr>\n",
       "      <th>1</th>\n",
       "      <td>1262</td>\n",
       "      <td>1262</td>\n",
       "      <td>181500</td>\n",
       "    </tr>\n",
       "    <tr>\n",
       "      <th>2</th>\n",
       "      <td>1786</td>\n",
       "      <td>920</td>\n",
       "      <td>223500</td>\n",
       "    </tr>\n",
       "    <tr>\n",
       "      <th>3</th>\n",
       "      <td>1717</td>\n",
       "      <td>756</td>\n",
       "      <td>140000</td>\n",
       "    </tr>\n",
       "    <tr>\n",
       "      <th>4</th>\n",
       "      <td>2198</td>\n",
       "      <td>1145</td>\n",
       "      <td>250000</td>\n",
       "    </tr>\n",
       "  </tbody>\n",
       "</table>\n",
       "</div>"
      ],
      "text/plain": [
       "   GrLivArea  TotalBsmtSF  SalePrice\n",
       "0       1710          856     208500\n",
       "1       1262         1262     181500\n",
       "2       1786          920     223500\n",
       "3       1717          756     140000\n",
       "4       2198         1145     250000"
      ]
     },
     "execution_count": 42,
     "metadata": {},
     "output_type": "execute_result"
    }
   ],
   "source": [
    "train_df\n",
    "sf_columns=['GrLivArea', 'TotalBsmtSF','SalePrice']\n",
    "train_df1=train_df[sf_columns]\n",
    "train_df1.head()\n",
    "# LotArea: Lot size in square feet\n",
    "# BsmtFinSF1: Type 1 finished square feet\n",
    "# BsmtFinSF2: Type 2 finished square feet\n",
    "# BsmtUnfSF: Unfinished square feet of basement area\n",
    "# TotalBsmtSF: Total square feet of basement area    \n",
    "# 1stFlrSF: First Floor square feet \n",
    "# 2ndFlrSF: Second floor square feet\n",
    "# LowQualFinSF: Low quality finished square feet (all floors)\n",
    "# GrLivArea: Above grade (ground) living area square feet    \n",
    "# GarageArea: Size of garage in square feet\n",
    "# WoodDeckSF: Wood deck area in square feet\n",
    "# OpenPorchSF: Open porch area in square feet\n",
    "# EnclosedPorch: Enclosed porch area in square feet\n",
    "# 3SsnPorch: Three season porch area in square feet\n",
    "# ScreenPorch: Screen porch area in square feet\n",
    "# PoolArea: Pool area in square feet"
   ]
  },
  {
   "cell_type": "code",
   "execution_count": 49,
   "metadata": {},
   "outputs": [
    {
     "data": {
      "text/plain": [
       "array([[<matplotlib.axes._subplots.AxesSubplot object at 0x00000284FE0B12C8>,\n",
       "        <matplotlib.axes._subplots.AxesSubplot object at 0x00000284FDEA36C8>,\n",
       "        <matplotlib.axes._subplots.AxesSubplot object at 0x00000284FDF2BA88>],\n",
       "       [<matplotlib.axes._subplots.AxesSubplot object at 0x00000284FDF21048>,\n",
       "        <matplotlib.axes._subplots.AxesSubplot object at 0x00000284FE025C08>,\n",
       "        <matplotlib.axes._subplots.AxesSubplot object at 0x0000028480BEDE08>],\n",
       "       [<matplotlib.axes._subplots.AxesSubplot object at 0x000002848246F708>,\n",
       "        <matplotlib.axes._subplots.AxesSubplot object at 0x0000028482484488>,\n",
       "        <matplotlib.axes._subplots.AxesSubplot object at 0x00000284824872C8>]],\n",
       "      dtype=object)"
      ]
     },
     "execution_count": 49,
     "metadata": {},
     "output_type": "execute_result"
    },
    {
     "data": {
      "image/png": "[encoded data removed]",
      "text/plain": [
       "<Figure size 432x288 with 9 Axes>"
      ]
     },
     "metadata": {
      "needs_background": "light"
     },
     "output_type": "display_data"
    }
   ],
   "source": [
    "pd.plotting.scatter_matrix(train_df1)"
   ]
  },
  {
   "cell_type": "code",
   "execution_count": 58,
   "metadata": {},
   "outputs": [],
   "source": [
    "X = train_df1.iloc[:,:-1]\n",
    "y = train_df1.iloc[:,-1]\n",
    "train_data_bl, dev_data_bl, train_labels_bl, dev_labels_bl = train_test_split(X,y, test_size=0.2)  #for baseline"
   ]
  },
  {
   "cell_type": "code",
   "execution_count": 59,
   "metadata": {},
   "outputs": [
    {
     "name": "stdout",
     "output_type": "stream",
     "text": [
      "Estimated function: y = -30722.50 + (x2) w_i*x_i\n",
      "R^2: 0.6663133077138975\n",
      "Accuracy: 0.3549663134832968\n"
     ]
    }
   ],
   "source": [
    "#Linear regression model\n",
    "lr = LinearRegression(fit_intercept=True)\n",
    "lr.fit(train_data_bl, train_labels_bl)                 #fit model\n",
    "print (\"Estimated function: y = %.2f + (x%d) w_i*x_i\" %(lr.intercept_, len(lr.coef_)))\n",
    "accuracies_prediction = lr.predict(dev_data_bl)    #predict\n",
    "print(\"R^2:\",lr.score(train_data_bl,train_labels_bl))    #Finding R^2\n",
    "print(\"Accuracy:\",lr.score(dev_data_bl,dev_labels_bl))    #Finding accuracy of dev data"
   ]
  },
  {
   "cell_type": "code",
   "execution_count": 61,
   "metadata": {},
   "outputs": [
    {
     "name": "stdout",
     "output_type": "stream",
     "text": [
      "..........................................................................................\n",
      "k-Nearest Neighbors:  \n",
      "Best f1_score is 0.010 when K is 132\n"
     ]
    },
    {
     "data": {
      "image/png": "[encoded data removed]",
      "text/plain": [
       "<Figure size 432x288 with 1 Axes>"
      ]
     },
     "metadata": {
      "needs_background": "light"
     },
     "output_type": "display_data"
    }
   ],
   "source": [
    "#K-Nearest Neighbors\n",
    "\n",
    "print(\".\"*90)\n",
    "print(\"k-Nearest Neighbors:  \")\n",
    "K= [int(x) for x in np.linspace(1,1000,100)]  \n",
    "f1_scores = {}\n",
    "for k in K:\n",
    "    # k-Nearest Neighbors Model\n",
    "    knn = KNeighborsClassifier(n_neighbors=k)\n",
    "    knn.fit(train_data_bl, train_labels_bl)  \n",
    "    dev_predicted_labels = knn.predict(dev_data_bl)\n",
    "    # finding, printing, and storing f1_score    \n",
    "    f1_score = metrics.f1_score(dev_labels_bl, dev_predicted_labels, average='weighted')\n",
    "    #print(\"For K: %d, f1_score: %.3f\" %(k,f1_score))\n",
    "    f1_scores[k] = f1_score\n",
    "best = max(f1_scores, key=f1_scores.get)\n",
    "print(\"Best f1_score is %.3f when K is %s\" %(f1_scores[best],best))\n",
    "#Plotting\n",
    "fig1=plt.figure()\n",
    "fig1=plt.title('kNN: k versus f1_scores')\n",
    "fig1=plt.xlabel('k')\n",
    "fig1=plt.ylabel('f1_scores')\n",
    "fig1=plt.plot(list(f1_scores.keys()), list(f1_scores.values()))"
   ]
  },
  {
   "cell_type": "code",
   "execution_count": 62,
   "metadata": {},
   "outputs": [
    {
     "name": "stdout",
     "output_type": "stream",
     "text": [
      "..........................................................................................\n",
      "Naive Bayes:  \n",
      "Best f1_score is 0.000 when alpha is 1e-10\n"
     ]
    },
    {
     "data": {
      "image/png": "[encoded data removed]",
      "text/plain": [
       "<Figure size 432x288 with 1 Axes>"
      ]
     },
     "metadata": {
      "needs_background": "light"
     },
     "output_type": "display_data"
    }
   ],
   "source": [
    "#Naive Bayes\n",
    "\n",
    "print(\".\"*90)\n",
    "print(\"Naive Bayes:  \")\n",
    "alphas = [1.0e-10, 0.0001, 0.001, 0.01, 0.1, 0.5, 1.0, 2.0, 10.0]  \n",
    "#varying by magnitudes of alpha to capture a wide range of values\n",
    "f1_scores = {}\n",
    "for alpha in alphas:\n",
    "    # Naive Bayes Model\n",
    "    mnb = MultinomialNB(alpha=alpha)\n",
    "    mnb.fit(train_data_bl, train_labels_bl)\n",
    "    dev_predicted_labels = mnb.predict(dev_data_bl)\n",
    "    # finding, printing, and storing f1_score    \n",
    "    f1_score = metrics.f1_score(dev_labels_bl, dev_predicted_labels, average='weighted')\n",
    "    #print(\"For Alpha: %s, f1_score: %.03f\" %(alpha,f1_score))\n",
    "    f1_scores[alpha] = f1_score\n",
    "best = max(f1_scores, key=f1_scores.get)\n",
    "print(\"Best f1_score is %0.03f when alpha is %s\" %(f1_scores[best],best))\n",
    "#Plotting\n",
    "fig2=plt.figure()\n",
    "fig2=plt.title('NB: alphas versus f1_scores')\n",
    "fig2=plt.xlabel('alphas')\n",
    "fig2=plt.ylabel('f1_scores')\n",
    "#plt.xscale('log')\n",
    "fig2=plt.plot(list(f1_scores.keys()), list(f1_scores.values()))"
   ]
  },
  {
   "cell_type": "code",
   "execution_count": null,
   "metadata": {},
   "outputs": [],
   "source": []
  },
  {
   "cell_type": "code",
   "execution_count": null,
   "metadata": {},
   "outputs": [],
   "source": []
  },
  {
   "cell_type": "code",
   "execution_count": null,
   "metadata": {},
   "outputs": [],
   "source": []
  },
  {
   "cell_type": "code",
   "execution_count": null,
   "metadata": {},
   "outputs": [],
   "source": []
  },
  {
   "cell_type": "code",
   "execution_count": null,
   "metadata": {},
   "outputs": [],
   "source": []
  },
  {
   "cell_type": "markdown",
   "metadata": {},
   "source": [
    "### Train/Dev Data with all columns"
   ]
  },
  {
   "cell_type": "code",
   "execution_count": 73,
   "metadata": {},
   "outputs": [
    {
     "data": {
      "text/plain": [
       "(1460, 62)"
      ]
     },
     "execution_count": 73,
     "metadata": {},
     "output_type": "execute_result"
    }
   ],
   "source": [
    "train_df.shape"
   ]
  },
  {
   "cell_type": "code",
   "execution_count": 74,
   "metadata": {},
   "outputs": [
    {
     "name": "stdout",
     "output_type": "stream",
     "text": [
      "training data shape: (1168, 216)\n",
      "training label shape: (1168,)\n",
      "dev dat shape: (292, 216)\n",
      "dev label shape: (292,)\n"
     ]
    },
    {
     "data": {
      "text/html": [
       "<div>\n",
       "<style scoped>\n",
       "    .dataframe tbody tr th:only-of-type {\n",
       "        vertical-align: middle;\n",
       "    }\n",
       "\n",
       "    .dataframe tbody tr th {\n",
       "        vertical-align: top;\n",
       "    }\n",
       "\n",
       "    .dataframe thead th {\n",
       "        text-align: right;\n",
       "    }\n",
       "</style>\n",
       "<table border=\"1\" class=\"dataframe\">\n",
       "  <thead>\n",
       "    <tr style=\"text-align: right;\">\n",
       "      <th></th>\n",
       "      <th>Id</th>\n",
       "      <th>MSSubClass</th>\n",
       "      <th>LotArea</th>\n",
       "      <th>OverallQual</th>\n",
       "      <th>OverallCond</th>\n",
       "      <th>YearBuilt</th>\n",
       "      <th>YearRemodAdd</th>\n",
       "      <th>BsmtFinSF1</th>\n",
       "      <th>BsmtFinSF2</th>\n",
       "      <th>BsmtUnfSF</th>\n",
       "      <th>...</th>\n",
       "      <th>SaleType_ConLI</th>\n",
       "      <th>SaleType_ConLw</th>\n",
       "      <th>SaleType_New</th>\n",
       "      <th>SaleType_Oth</th>\n",
       "      <th>SaleType_WD</th>\n",
       "      <th>SaleCondition_Abnorml</th>\n",
       "      <th>SaleCondition_AdjLand</th>\n",
       "      <th>SaleCondition_Alloca</th>\n",
       "      <th>SaleCondition_Family</th>\n",
       "      <th>SaleCondition_Normal</th>\n",
       "    </tr>\n",
       "  </thead>\n",
       "  <tbody>\n",
       "    <tr>\n",
       "      <th>618</th>\n",
       "      <td>0.423578</td>\n",
       "      <td>0.000000</td>\n",
       "      <td>0.048583</td>\n",
       "      <td>0.888889</td>\n",
       "      <td>0.50</td>\n",
       "      <td>0.978261</td>\n",
       "      <td>0.950000</td>\n",
       "      <td>0.008505</td>\n",
       "      <td>0.0</td>\n",
       "      <td>0.759418</td>\n",
       "      <td>...</td>\n",
       "      <td>0.0</td>\n",
       "      <td>0.0</td>\n",
       "      <td>1.0</td>\n",
       "      <td>0.0</td>\n",
       "      <td>0.0</td>\n",
       "      <td>0.0</td>\n",
       "      <td>0.0</td>\n",
       "      <td>0.0</td>\n",
       "      <td>0.0</td>\n",
       "      <td>0.0</td>\n",
       "    </tr>\n",
       "    <tr>\n",
       "      <th>870</th>\n",
       "      <td>0.596299</td>\n",
       "      <td>0.000000</td>\n",
       "      <td>0.024773</td>\n",
       "      <td>0.444444</td>\n",
       "      <td>0.50</td>\n",
       "      <td>0.652174</td>\n",
       "      <td>0.200000</td>\n",
       "      <td>0.000000</td>\n",
       "      <td>0.0</td>\n",
       "      <td>0.382705</td>\n",
       "      <td>...</td>\n",
       "      <td>0.0</td>\n",
       "      <td>0.0</td>\n",
       "      <td>0.0</td>\n",
       "      <td>0.0</td>\n",
       "      <td>1.0</td>\n",
       "      <td>0.0</td>\n",
       "      <td>0.0</td>\n",
       "      <td>0.0</td>\n",
       "      <td>0.0</td>\n",
       "      <td>1.0</td>\n",
       "    </tr>\n",
       "    <tr>\n",
       "      <th>92</th>\n",
       "      <td>0.063057</td>\n",
       "      <td>0.058824</td>\n",
       "      <td>0.056370</td>\n",
       "      <td>0.444444</td>\n",
       "      <td>0.75</td>\n",
       "      <td>0.355072</td>\n",
       "      <td>0.933333</td>\n",
       "      <td>0.126329</td>\n",
       "      <td>0.0</td>\n",
       "      <td>0.069777</td>\n",
       "      <td>...</td>\n",
       "      <td>0.0</td>\n",
       "      <td>0.0</td>\n",
       "      <td>0.0</td>\n",
       "      <td>0.0</td>\n",
       "      <td>1.0</td>\n",
       "      <td>0.0</td>\n",
       "      <td>0.0</td>\n",
       "      <td>0.0</td>\n",
       "      <td>0.0</td>\n",
       "      <td>1.0</td>\n",
       "    </tr>\n",
       "    <tr>\n",
       "      <th>817</th>\n",
       "      <td>0.559973</td>\n",
       "      <td>0.000000</td>\n",
       "      <td>0.055926</td>\n",
       "      <td>0.777778</td>\n",
       "      <td>0.50</td>\n",
       "      <td>0.942029</td>\n",
       "      <td>0.866667</td>\n",
       "      <td>0.215804</td>\n",
       "      <td>0.0</td>\n",
       "      <td>0.149829</td>\n",
       "      <td>...</td>\n",
       "      <td>0.0</td>\n",
       "      <td>0.0</td>\n",
       "      <td>0.0</td>\n",
       "      <td>0.0</td>\n",
       "      <td>1.0</td>\n",
       "      <td>0.0</td>\n",
       "      <td>0.0</td>\n",
       "      <td>0.0</td>\n",
       "      <td>0.0</td>\n",
       "      <td>1.0</td>\n",
       "    </tr>\n",
       "    <tr>\n",
       "      <th>302</th>\n",
       "      <td>0.206991</td>\n",
       "      <td>0.000000</td>\n",
       "      <td>0.057978</td>\n",
       "      <td>0.666667</td>\n",
       "      <td>0.50</td>\n",
       "      <td>0.934783</td>\n",
       "      <td>0.866667</td>\n",
       "      <td>0.000000</td>\n",
       "      <td>0.0</td>\n",
       "      <td>0.659675</td>\n",
       "      <td>...</td>\n",
       "      <td>0.0</td>\n",
       "      <td>0.0</td>\n",
       "      <td>0.0</td>\n",
       "      <td>0.0</td>\n",
       "      <td>1.0</td>\n",
       "      <td>0.0</td>\n",
       "      <td>0.0</td>\n",
       "      <td>0.0</td>\n",
       "      <td>0.0</td>\n",
       "      <td>1.0</td>\n",
       "    </tr>\n",
       "  </tbody>\n",
       "</table>\n",
       "<p>5 rows × 216 columns</p>\n",
       "</div>"
      ],
      "text/plain": [
       "           Id  MSSubClass   LotArea  OverallQual  OverallCond  YearBuilt  \\\n",
       "618  0.423578    0.000000  0.048583     0.888889         0.50   0.978261   \n",
       "870  0.596299    0.000000  0.024773     0.444444         0.50   0.652174   \n",
       "92   0.063057    0.058824  0.056370     0.444444         0.75   0.355072   \n",
       "817  0.559973    0.000000  0.055926     0.777778         0.50   0.942029   \n",
       "302  0.206991    0.000000  0.057978     0.666667         0.50   0.934783   \n",
       "\n",
       "     YearRemodAdd  BsmtFinSF1  BsmtFinSF2  BsmtUnfSF  ...  SaleType_ConLI  \\\n",
       "618      0.950000    0.008505         0.0   0.759418  ...             0.0   \n",
       "870      0.200000    0.000000         0.0   0.382705  ...             0.0   \n",
       "92       0.933333    0.126329         0.0   0.069777  ...             0.0   \n",
       "817      0.866667    0.215804         0.0   0.149829  ...             0.0   \n",
       "302      0.866667    0.000000         0.0   0.659675  ...             0.0   \n",
       "\n",
       "     SaleType_ConLw  SaleType_New  SaleType_Oth  SaleType_WD  \\\n",
       "618             0.0           1.0           0.0          0.0   \n",
       "870             0.0           0.0           0.0          1.0   \n",
       "92              0.0           0.0           0.0          1.0   \n",
       "817             0.0           0.0           0.0          1.0   \n",
       "302             0.0           0.0           0.0          1.0   \n",
       "\n",
       "     SaleCondition_Abnorml  SaleCondition_AdjLand  SaleCondition_Alloca  \\\n",
       "618                    0.0                    0.0                   0.0   \n",
       "870                    0.0                    0.0                   0.0   \n",
       "92                     0.0                    0.0                   0.0   \n",
       "817                    0.0                    0.0                   0.0   \n",
       "302                    0.0                    0.0                   0.0   \n",
       "\n",
       "     SaleCondition_Family  SaleCondition_Normal  \n",
       "618                   0.0                   0.0  \n",
       "870                   0.0                   1.0  \n",
       "92                    0.0                   1.0  \n",
       "817                   0.0                   1.0  \n",
       "302                   0.0                   1.0  \n",
       "\n",
       "[5 rows x 216 columns]"
      ]
     },
     "execution_count": 74,
     "metadata": {},
     "output_type": "execute_result"
    }
   ],
   "source": [
    "#Converted all categorical data to dummy variables\n",
    "#columns expanded from 62 to 216\n",
    "np.random.seed(0)\n",
    "\n",
    "dummies_df = pd.get_dummies(train_df)\n",
    "X=dummies_df.iloc[:,:-1]\n",
    "y=dummies_df.iloc[:,-1]\n",
    "\n",
    "#scale values between 0 and 1\n",
    "features=X.columns.values\n",
    "scaler=MinMaxScaler(feature_range=(0,1))\n",
    "scaler.fit(X)\n",
    "X=pd.DataFrame(scaler.transform(X))\n",
    "X.columns=features\n",
    "\n",
    "\n",
    "train_data, dev_data, train_labels, dev_labels = train_test_split(X,y, test_size=0.2)\n",
    "print('training data shape:', train_data.shape)\n",
    "print('training label shape:', train_labels.shape)\n",
    "print('dev dat shape:',      dev_data.shape)\n",
    "print('dev label shape:',      dev_labels.shape)\n",
    "train_data.head()"
   ]
  },
  {
   "cell_type": "code",
   "execution_count": 90,
   "metadata": {},
   "outputs": [
    {
     "name": "stdout",
     "output_type": "stream",
     "text": [
      "Estimated function: y = 1.00 + (x216) w_i*x_i\n",
      "R^2: 1.0\n",
      "Accuracy: 0.9999999981272784\n"
     ]
    }
   ],
   "source": [
    "# NOT SURE IF DONE CORRECTLY\n",
    "\n",
    "#Linear regression model\n",
    "lr = LinearRegression(fit_intercept=True)\n",
    "lr.fit(train_data, train_labels)                 #fit model\n",
    "print (\"Estimated function: y = %.2f + (x%d) w_i*x_i\" %(lr.intercept_, len(lr.coef_)))\n",
    "accuracies_prediction = lr.predict(dev_data)    #predict\n",
    "print(\"R^2:\",lr.score(train_data,train_labels))    #Finding R^2\n",
    "print(\"Accuracy:\",lr.score(dev_data,dev_labels))    #Finding accuracy of dev data"
   ]
  },
  {
   "cell_type": "code",
   "execution_count": 89,
   "metadata": {},
   "outputs": [
    {
     "data": {
      "text/plain": [
       "array([[-1.67306578e-01, -8.75067273e-02,  1.92998997e-02,\n",
       "        -3.19670538e-02, -5.85495781e-02,  1.75297831e-01,\n",
       "         5.16487059e-01, -3.44947877e-02, -7.38697199e-02,\n",
       "         1.85497289e-01,  2.12355349e-02,  5.33801897e-03,\n",
       "        -5.16410365e-02, -4.05580577e-02, -2.00781580e-02,\n",
       "        -2.45339394e-02, -9.34275521e-02,  7.36386487e-02,\n",
       "        -6.33348098e-02, -1.50443985e-01,  4.38115980e-02,\n",
       "        -1.03367984e-02,  3.74303742e-03,  8.83808552e-02,\n",
       "         1.26933456e-01, -1.70992138e-01,  2.74689846e-02,\n",
       "        -5.68297774e-02, -1.19734961e-02, -1.60281254e-02,\n",
       "        -1.01788676e-02, -3.87762271e-03,  4.21703044e-02,\n",
       "        -3.27562201e-01,  7.15891477e-02, -3.47761218e-02,\n",
       "         6.89015502e-02, -6.91483423e-02, -6.33787546e-03,\n",
       "        -7.24055753e-02, -1.38683415e-02, -9.98980232e-02,\n",
       "         4.84349575e-03, -7.97721587e-02, -2.62039840e-02,\n",
       "        -1.26337177e-02, -9.52275373e-02, -1.61964122e-02,\n",
       "         2.32708735e-01, -2.35051150e-01, -1.04931496e-01,\n",
       "        -8.83486829e-03, -9.49883679e-02, -1.58694823e-01,\n",
       "         8.84319603e-02, -1.36503694e-03,  5.28499031e-02,\n",
       "        -2.46162864e-01, -1.51056115e-01,  2.83452614e-01,\n",
       "         1.74554571e-02, -1.28064207e-03, -1.43479628e-02,\n",
       "        -4.37979168e-02,  2.33180565e-01, -2.21205072e-04,\n",
       "        -8.31813045e-02, -6.46721899e-03,  6.31176598e-02,\n",
       "        -4.77131866e-02, -1.45234711e-02, -1.02953490e-01,\n",
       "        -2.13744313e-01, -1.04895669e-02, -1.15362493e-01,\n",
       "        -1.39622762e-01,  2.16226782e-01,  4.07326824e-03,\n",
       "        -3.58745237e-02, -5.70630171e-02, -1.42847909e-01,\n",
       "         3.44799184e-01,  5.24669437e-02, -4.33450354e-03,\n",
       "        -1.12607386e-02, -4.40067136e-02,  5.15726032e-02,\n",
       "        -1.20179387e-01, -9.11908386e-03, -2.22382247e-02,\n",
       "         3.39318643e-03,  2.90527649e-02, -2.70925493e-03,\n",
       "         4.67744402e-04, -1.35483943e-03, -1.65905327e-02,\n",
       "        -1.07382975e-01, -1.93121423e-03,  1.42048192e-02,\n",
       "        -7.11622682e-04,  0.00000000e+00,  0.00000000e+00,\n",
       "        -6.90217848e-03,  1.32557444e-01, -8.06485739e-02,\n",
       "        -1.25375476e-01, -3.33975800e-02, -1.72645869e-01,\n",
       "        -8.80526299e-03,  9.45539681e-02, -2.36300039e-02,\n",
       "        -1.14390294e-02,  5.11159256e-02,  4.54600513e-02,\n",
       "        -8.83761446e-02,  2.77617322e-01, -2.56860251e-01,\n",
       "        -1.81003689e-02, -1.05643961e-01, -6.34695098e-03,\n",
       "        -4.43215421e-03,  0.00000000e+00, -3.54440368e-01,\n",
       "        -4.80826948e-03, -4.05922124e-03, -5.33977320e-04,\n",
       "         2.87085563e-01, -2.59328904e-02, -1.10772009e-02,\n",
       "        -2.47314990e-02, -2.73351851e-04, -7.59398586e-03,\n",
       "        -4.51156731e-02, -7.18971634e-04,  1.29063024e-01,\n",
       "        -1.71088019e-01, -2.35979170e-03, -1.22918235e-01,\n",
       "        -1.41247998e-01, -3.48156702e-02, -2.37243093e-02,\n",
       "         2.86145006e-01,  4.90812166e-02, -3.46810753e-03,\n",
       "        -2.59520125e-02, -2.73351851e-04, -8.74129441e-03,\n",
       "        -2.44646310e-02, -7.18971634e-04,  1.20547319e-01,\n",
       "        -1.89147435e-01, -2.91065996e-02, -1.21446030e-01,\n",
       "         3.47589509e-02, -1.64025677e-01, -1.65312547e-02,\n",
       "        -1.78221096e-02,  2.80899202e-01,  7.04646786e-02,\n",
       "        -2.22071483e-02,  1.50725278e-01, -5.23902249e-02,\n",
       "         8.35691770e-03, -2.20458335e-01, -4.78810076e-03,\n",
       "        -5.92848138e-02, -1.85587924e-01, -6.15511757e-04,\n",
       "         1.36509986e-01, -4.47396242e-02, -2.66868124e-01,\n",
       "         2.21660579e-01, -1.66132844e-02, -6.41730729e-03,\n",
       "        -7.88604110e-04, -5.94776566e-04, -9.04619193e-02,\n",
       "        -1.13511853e-02, -1.00144046e-02, -7.10035953e-04,\n",
       "        -6.34042983e-04,  2.75628341e-01, -5.90181806e-02,\n",
       "         7.99530503e-02, -3.67121309e-04, -4.09962454e-01,\n",
       "        -1.10254067e-01, -3.51229816e-03,  4.31317361e-01,\n",
       "        -7.10576344e-02, -1.01564596e-01, -3.72461495e-01,\n",
       "        -2.88253037e-02, -3.97470207e-03, -2.27337073e-02,\n",
       "        -3.93020571e-02, -2.35715192e-02,  0.00000000e+00,\n",
       "         4.64092477e-03, -2.17875481e-02, -1.58509690e-02,\n",
       "        -7.61278475e-02, -3.43415371e-01, -7.81540283e-02,\n",
       "        -4.10058667e-02,  1.06876541e-01, -1.06844172e-01,\n",
       "        -7.96942617e-02,  2.64074810e+00, -3.52502918e-02,\n",
       "        -2.17702701e+00, -7.90403341e-01, -2.05692764e-02,\n",
       "        -3.29124036e-02, -1.48774044e-01, -2.25353449e+00]])"
      ]
     },
     "execution_count": 89,
     "metadata": {},
     "output_type": "execute_result"
    }
   ],
   "source": [
    "# lr.coef_[abs(lr.coef_) > 0.1]\n",
    "\n",
    "np.where([abs(lr.coef_) > 0.1])\n",
    "\n",
    "lr.coef_"
   ]
  },
  {
   "cell_type": "code",
   "execution_count": 91,
   "metadata": {},
   "outputs": [
    {
     "name": "stdout",
     "output_type": "stream",
     "text": [
      "For C = 0.5, f1_score = 0.997\n"
     ]
    }
   ],
   "source": [
    "#logistic regression model\n",
    "c=0.5\n",
    "lr = LogisticRegression(C=c, solver=\"liblinear\", multi_class=\"auto\")  #default regularization = l2\n",
    "lr.fit(train_data,train_labels)\n",
    "dev_predicted_labels=lr.predict(dev_data)\n",
    "# finding, printing, and storing f1_score    \n",
    "f1_score=metrics.f1_score(dev_labels,dev_predicted_labels,average='weighted')\n",
    "print(\"For C = %s, f1_score = %.3f\" %(c,f1_score))"
   ]
  }
 ],
 "metadata": {
  "kernelspec": {
   "display_name": "Python 3",
   "language": "python",
   "name": "python3"
  },
  "language_info": {
   "codemirror_mode": {
    "name": "ipython",
    "version": 3
   },
   "file_extension": ".py",
   "mimetype": "text/x-python",
   "name": "python",
   "nbconvert_exporter": "python",
   "pygments_lexer": "ipython3",
   "version": "3.7.4"
  }
 },
 "nbformat": 4,
 "nbformat_minor": 4
}
