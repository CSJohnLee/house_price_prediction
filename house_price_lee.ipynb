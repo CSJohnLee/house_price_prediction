{
 "cells": [
  {
   "cell_type": "markdown",
   "metadata": {},
   "source": [
    "# John's House Price"
   ]
  },
  {
   "cell_type": "markdown",
   "metadata": {},
   "source": [
    "### Importing Packages"
   ]
  },
  {
   "cell_type": "code",
   "execution_count": 1,
   "metadata": {},
   "outputs": [],
   "source": [
    "# This tells matplotlib not to try opening a new window for each plot.\n",
    "%matplotlib inline\n",
    "\n",
    "# General libraries.\n",
    "import re\n",
    "import time\n",
    "import numpy as np\n",
    "import pandas as pd # to read in csv\n",
    "import matplotlib.pyplot as plt\n",
    "from matplotlib.ticker import MultipleLocator\n",
    "\n",
    "# SK-learn libraries for learning.\n",
    "from sklearn.pipeline import Pipeline\n",
    "from sklearn.neighbors import KNeighborsClassifier\n",
    "from sklearn.linear_model import LogisticRegression\n",
    "from sklearn.linear_model import LinearRegression\n",
    "from sklearn.naive_bayes import BernoulliNB\n",
    "from sklearn.naive_bayes import MultinomialNB\n",
    "from sklearn.naive_bayes import GaussianNB\n",
    "from sklearn.model_selection import GridSearchCV\n",
    "\n",
    "# SK-learn libraries for evaluation.\n",
    "from sklearn.metrics import confusion_matrix\n",
    "from sklearn import metrics\n",
    "from sklearn.metrics import classification_report\n",
    "\n",
    "# SK-learn libraries for feature extraction from text.\n",
    "from sklearn.feature_extraction.text import *\n",
    "from sklearn.preprocessing import LabelEncoder\n",
    "from sklearn.preprocessing import MinMaxScaler\n",
    "from sklearn.model_selection import train_test_split\n",
    "\n",
    "\n",
    "import nltk\n",
    "\n",
    "# Set the randomizer seed so results are the same each time.\n",
    "np.random.seed(0)"
   ]
  },
  {
   "cell_type": "markdown",
   "metadata": {},
   "source": [
    "### Load and Inspect Data"
   ]
  },
  {
   "cell_type": "code",
   "execution_count": 2,
   "metadata": {
    "scrolled": false
   },
   "outputs": [
    {
     "name": "stdout",
     "output_type": "stream",
     "text": [
      "Train Shape: (1460, 81)\n",
      "Test Shape: (1459, 80)\n",
      "Id                 int64\n",
      "MSSubClass         int64\n",
      "MSZoning          object\n",
      "LotFrontage      float64\n",
      "LotArea            int64\n",
      "                  ...   \n",
      "MoSold             int64\n",
      "YrSold             int64\n",
      "SaleType          object\n",
      "SaleCondition     object\n",
      "SalePrice          int64\n",
      "Length: 81, dtype: object\n"
     ]
    },
    {
     "data": {
      "text/html": [
       "<div>\n",
       "<style scoped>\n",
       "    .dataframe tbody tr th:only-of-type {\n",
       "        vertical-align: middle;\n",
       "    }\n",
       "\n",
       "    .dataframe tbody tr th {\n",
       "        vertical-align: top;\n",
       "    }\n",
       "\n",
       "    .dataframe thead th {\n",
       "        text-align: right;\n",
       "    }\n",
       "</style>\n",
       "<table border=\"1\" class=\"dataframe\">\n",
       "  <thead>\n",
       "    <tr style=\"text-align: right;\">\n",
       "      <th></th>\n",
       "      <th>Id</th>\n",
       "      <th>MSSubClass</th>\n",
       "      <th>MSZoning</th>\n",
       "      <th>LotFrontage</th>\n",
       "      <th>LotArea</th>\n",
       "      <th>Street</th>\n",
       "      <th>Alley</th>\n",
       "      <th>LotShape</th>\n",
       "      <th>LandContour</th>\n",
       "      <th>Utilities</th>\n",
       "      <th>...</th>\n",
       "      <th>PoolArea</th>\n",
       "      <th>PoolQC</th>\n",
       "      <th>Fence</th>\n",
       "      <th>MiscFeature</th>\n",
       "      <th>MiscVal</th>\n",
       "      <th>MoSold</th>\n",
       "      <th>YrSold</th>\n",
       "      <th>SaleType</th>\n",
       "      <th>SaleCondition</th>\n",
       "      <th>SalePrice</th>\n",
       "    </tr>\n",
       "  </thead>\n",
       "  <tbody>\n",
       "    <tr>\n",
       "      <th>0</th>\n",
       "      <td>1</td>\n",
       "      <td>60</td>\n",
       "      <td>RL</td>\n",
       "      <td>65.0</td>\n",
       "      <td>8450</td>\n",
       "      <td>Pave</td>\n",
       "      <td>NaN</td>\n",
       "      <td>Reg</td>\n",
       "      <td>Lvl</td>\n",
       "      <td>AllPub</td>\n",
       "      <td>...</td>\n",
       "      <td>0</td>\n",
       "      <td>NaN</td>\n",
       "      <td>NaN</td>\n",
       "      <td>NaN</td>\n",
       "      <td>0</td>\n",
       "      <td>2</td>\n",
       "      <td>2008</td>\n",
       "      <td>WD</td>\n",
       "      <td>Normal</td>\n",
       "      <td>208500</td>\n",
       "    </tr>\n",
       "    <tr>\n",
       "      <th>1</th>\n",
       "      <td>2</td>\n",
       "      <td>20</td>\n",
       "      <td>RL</td>\n",
       "      <td>80.0</td>\n",
       "      <td>9600</td>\n",
       "      <td>Pave</td>\n",
       "      <td>NaN</td>\n",
       "      <td>Reg</td>\n",
       "      <td>Lvl</td>\n",
       "      <td>AllPub</td>\n",
       "      <td>...</td>\n",
       "      <td>0</td>\n",
       "      <td>NaN</td>\n",
       "      <td>NaN</td>\n",
       "      <td>NaN</td>\n",
       "      <td>0</td>\n",
       "      <td>5</td>\n",
       "      <td>2007</td>\n",
       "      <td>WD</td>\n",
       "      <td>Normal</td>\n",
       "      <td>181500</td>\n",
       "    </tr>\n",
       "  </tbody>\n",
       "</table>\n",
       "<p>2 rows × 81 columns</p>\n",
       "</div>"
      ],
      "text/plain": [
       "   Id  MSSubClass MSZoning  LotFrontage  LotArea Street Alley LotShape  \\\n",
       "0   1          60       RL         65.0     8450   Pave   NaN      Reg   \n",
       "1   2          20       RL         80.0     9600   Pave   NaN      Reg   \n",
       "\n",
       "  LandContour Utilities  ... PoolArea PoolQC Fence MiscFeature MiscVal MoSold  \\\n",
       "0         Lvl    AllPub  ...        0    NaN   NaN         NaN       0      2   \n",
       "1         Lvl    AllPub  ...        0    NaN   NaN         NaN       0      5   \n",
       "\n",
       "  YrSold  SaleType  SaleCondition  SalePrice  \n",
       "0   2008        WD         Normal     208500  \n",
       "1   2007        WD         Normal     181500  \n",
       "\n",
       "[2 rows x 81 columns]"
      ]
     },
     "execution_count": 2,
     "metadata": {},
     "output_type": "execute_result"
    }
   ],
   "source": [
    "#Read in data\n",
    "\n",
    "# house price data\n",
    "train_df_raw = pd.read_csv(\"data_raw\\\\train.csv\") \n",
    "test_df_raw = pd.read_csv(\"data_raw\\\\test.csv\")\n",
    "\n",
    "print(\"Train Shape:\", train_df_raw.shape)\n",
    "print(\"Test Shape:\", test_df_raw.shape)\n",
    "print(train_df_raw.dtypes)\n",
    "train_df_raw.head(2)"
   ]
  },
  {
   "cell_type": "markdown",
   "metadata": {},
   "source": [
    "### Check Missingness"
   ]
  },
  {
   "cell_type": "code",
   "execution_count": 3,
   "metadata": {},
   "outputs": [
    {
     "name": "stdout",
     "output_type": "stream",
     "text": [
      "LotFrontage      259\n",
      "Alley           1369\n",
      "MasVnrType         8\n",
      "MasVnrArea         8\n",
      "BsmtQual          37\n",
      "BsmtCond          37\n",
      "BsmtExposure      38\n",
      "BsmtFinType1      37\n",
      "BsmtFinType2      38\n",
      "Electrical         1\n",
      "FireplaceQu      690\n",
      "GarageType        81\n",
      "GarageYrBlt       81\n",
      "GarageFinish      81\n",
      "GarageQual        81\n",
      "GarageCond        81\n",
      "PoolQC          1453\n",
      "Fence           1179\n",
      "MiscFeature     1406\n",
      "dtype: int64\n",
      "\n",
      "LotFrontage     float64\n",
      "Alley            object\n",
      "MasVnrType       object\n",
      "MasVnrArea      float64\n",
      "BsmtQual         object\n",
      "BsmtCond         object\n",
      "BsmtExposure     object\n",
      "BsmtFinType1     object\n",
      "BsmtFinType2     object\n",
      "Electrical       object\n",
      "FireplaceQu      object\n",
      "GarageType       object\n",
      "GarageYrBlt     float64\n",
      "GarageFinish     object\n",
      "GarageQual       object\n",
      "GarageCond       object\n",
      "PoolQC           object\n",
      "Fence            object\n",
      "MiscFeature      object\n",
      "dtype: object\n",
      "\n",
      "Feature MasVnrType has NaN at following indices: [ 235  530  651  937  974  978 1244 1279]\n",
      "\n",
      "Number of features with missing data: 19\n"
     ]
    },
    {
     "data": {
      "image/png": "[encoded data removed]",
      "text/plain": [
       "<Figure size 144x144 with 1 Axes>"
      ]
     },
     "metadata": {
      "needs_background": "light"
     },
     "output_type": "display_data"
    },
    {
     "data": {
      "image/png": "[encoded data removed]",
      "text/plain": [
       "<Figure size 144x144 with 1 Axes>"
      ]
     },
     "metadata": {
      "needs_background": "light"
     },
     "output_type": "display_data"
    },
    {
     "data": {
      "image/png": "[encoded data removed]",
      "text/plain": [
       "<Figure size 144x144 with 1 Axes>"
      ]
     },
     "metadata": {
      "needs_background": "light"
     },
     "output_type": "display_data"
    },
    {
     "data": {
      "image/png": "[encoded data removed]",
      "text/plain": [
       "<Figure size 144x144 with 1 Axes>"
      ]
     },
     "metadata": {
      "needs_background": "light"
     },
     "output_type": "display_data"
    },
    {
     "data": {
      "image/png": "[encoded data removed]",
      "text/plain": [
       "<Figure size 144x144 with 1 Axes>"
      ]
     },
     "metadata": {
      "needs_background": "light"
     },
     "output_type": "display_data"
    },
    {
     "data": {
      "image/png": "[encoded data removed]",
      "text/plain": [
       "<Figure size 144x144 with 1 Axes>"
      ]
     },
     "metadata": {
      "needs_background": "light"
     },
     "output_type": "display_data"
    },
    {
     "data": {
      "image/png": "[encoded data removed]",
      "text/plain": [
       "<Figure size 144x144 with 1 Axes>"
      ]
     },
     "metadata": {
      "needs_background": "light"
     },
     "output_type": "display_data"
    },
    {
     "data": {
      "image/png": "[encoded data removed]",
      "text/plain": [
       "<Figure size 144x144 with 1 Axes>"
      ]
     },
     "metadata": {
      "needs_background": "light"
     },
     "output_type": "display_data"
    },
    {
     "data": {
      "image/png": "[encoded data removed]",
      "text/plain": [
       "<Figure size 144x144 with 1 Axes>"
      ]
     },
     "metadata": {
      "needs_background": "light"
     },
     "output_type": "display_data"
    },
    {
     "data": {
      "image/png": "[encoded data removed]",
      "text/plain": [
       "<Figure size 144x144 with 1 Axes>"
      ]
     },
     "metadata": {
      "needs_background": "light"
     },
     "output_type": "display_data"
    },
    {
     "data": {
      "image/png": "[encoded data removed]",
      "text/plain": [
       "<Figure size 144x144 with 1 Axes>"
      ]
     },
     "metadata": {
      "needs_background": "light"
     },
     "output_type": "display_data"
    },
    {
     "data": {
      "image/png": "[encoded data removed]",
      "text/plain": [
       "<Figure size 144x144 with 1 Axes>"
      ]
     },
     "metadata": {
      "needs_background": "light"
     },
     "output_type": "display_data"
    },
    {
     "data": {
      "image/png": "[encoded data removed]",
      "text/plain": [
       "<Figure size 144x144 with 1 Axes>"
      ]
     },
     "metadata": {
      "needs_background": "light"
     },
     "output_type": "display_data"
    },
    {
     "data": {
      "image/png": "[encoded data removed]",
      "text/plain": [
       "<Figure size 144x144 with 1 Axes>"
      ]
     },
     "metadata": {
      "needs_background": "light"
     },
     "output_type": "display_data"
    },
    {
     "data": {
      "image/png": "[encoded data removed]",
      "text/plain": [
       "<Figure size 144x144 with 1 Axes>"
      ]
     },
     "metadata": {
      "needs_background": "light"
     },
     "output_type": "display_data"
    },
    {
     "data": {
      "image/png": "[encoded data removed]",
      "text/plain": [
       "<Figure size 144x144 with 1 Axes>"
      ]
     },
     "metadata": {
      "needs_background": "light"
     },
     "output_type": "display_data"
    },
    {
     "data": {
      "image/png": "[encoded data removed]",
      "text/plain": [
       "<Figure size 144x144 with 1 Axes>"
      ]
     },
     "metadata": {
      "needs_background": "light"
     },
     "output_type": "display_data"
    },
    {
     "data": {
      "image/png": "[encoded data removed]",
      "text/plain": [
       "<Figure size 144x144 with 1 Axes>"
      ]
     },
     "metadata": {
      "needs_background": "light"
     },
     "output_type": "display_data"
    },
    {
     "data": {
      "image/png": "[encoded data removed]",
      "text/plain": [
       "<Figure size 144x144 with 1 Axes>"
      ]
     },
     "metadata": {
      "needs_background": "light"
     },
     "output_type": "display_data"
    }
   ],
   "source": [
    "# TRAINING DATA MISSINGNESS\n",
    "\n",
    "# Raw data has several columns with missing data\n",
    "print( train_df_raw.isnull().sum(axis=0)[train_df_raw.isnull().sum(axis=0) != 0])\n",
    "print(\"\")\n",
    "\n",
    "#Types of missing data\n",
    "df_missing_data = train_df_raw.isnull().sum(axis=0)[train_df_raw.isnull().sum(axis=0) != 0].index\n",
    "print(train_df_raw[df_missing_data].dtypes)\n",
    "print(\"\")\n",
    "\n",
    "# Code to see which sample Id has missing data per feature\n",
    "feature='MasVnrType'\n",
    "print(\"Feature %s has NaN at following indices:\" %feature, train_df_raw[\"Id\"][train_df_raw[feature].isnull()].unique())\n",
    "print(\"\")\n",
    "\n",
    "#histograms of features with missing data\n",
    "print(\"Number of features with missing data:\", len(df_missing_data))\n",
    "for i in range(len(df_missing_data)):\n",
    "    train_df_raw[df_missing_data[i]].hist(figsize=(2,2))\n",
    "    plt.show()"
   ]
  },
  {
   "cell_type": "code",
   "execution_count": 4,
   "metadata": {},
   "outputs": [
    {
     "name": "stdout",
     "output_type": "stream",
     "text": [
      "MSZoning           4\n",
      "LotFrontage      227\n",
      "Alley           1352\n",
      "Utilities          2\n",
      "Exterior1st        1\n",
      "Exterior2nd        1\n",
      "MasVnrType        16\n",
      "MasVnrArea        15\n",
      "BsmtQual          44\n",
      "BsmtCond          45\n",
      "BsmtExposure      44\n",
      "BsmtFinType1      42\n",
      "BsmtFinSF1         1\n",
      "BsmtFinType2      42\n",
      "BsmtFinSF2         1\n",
      "BsmtUnfSF          1\n",
      "TotalBsmtSF        1\n",
      "BsmtFullBath       2\n",
      "BsmtHalfBath       2\n",
      "KitchenQual        1\n",
      "Functional         2\n",
      "FireplaceQu      730\n",
      "GarageType        76\n",
      "GarageYrBlt       78\n",
      "GarageFinish      78\n",
      "GarageCars         1\n",
      "GarageArea         1\n",
      "GarageQual        78\n",
      "GarageCond        78\n",
      "PoolQC          1456\n",
      "Fence           1169\n",
      "MiscFeature     1408\n",
      "SaleType           1\n",
      "dtype: int64\n",
      "\n",
      "MSZoning         object\n",
      "LotFrontage     float64\n",
      "Alley            object\n",
      "Utilities        object\n",
      "Exterior1st      object\n",
      "Exterior2nd      object\n",
      "MasVnrType       object\n",
      "MasVnrArea      float64\n",
      "BsmtQual         object\n",
      "BsmtCond         object\n",
      "BsmtExposure     object\n",
      "BsmtFinType1     object\n",
      "BsmtFinSF1      float64\n",
      "BsmtFinType2     object\n",
      "BsmtFinSF2      float64\n",
      "BsmtUnfSF       float64\n",
      "TotalBsmtSF     float64\n",
      "BsmtFullBath    float64\n",
      "BsmtHalfBath    float64\n",
      "KitchenQual      object\n",
      "Functional       object\n",
      "FireplaceQu      object\n",
      "GarageType       object\n",
      "GarageYrBlt     float64\n",
      "GarageFinish     object\n",
      "GarageCars      float64\n",
      "GarageArea      float64\n",
      "GarageQual       object\n",
      "GarageCond       object\n",
      "PoolQC           object\n",
      "Fence            object\n",
      "MiscFeature      object\n",
      "SaleType         object\n",
      "dtype: object\n",
      "\n",
      "Feature MasVnrType has NaN at following indices: [1692 1707 1883 1993 2005 2042 2312 2326 2341 2350 2369 2593 2611 2658\n",
      " 2687 2863]\n",
      "\n",
      "Number of features with missing data: 33\n"
     ]
    },
    {
     "data": {
      "image/png": "[encoded data removed]",
      "text/plain": [
       "<Figure size 144x144 with 1 Axes>"
      ]
     },
     "metadata": {
      "needs_background": "light"
     },
     "output_type": "display_data"
    },
    {
     "data": {
      "image/png": "[encoded data removed]",
      "text/plain": [
       "<Figure size 144x144 with 1 Axes>"
      ]
     },
     "metadata": {
      "needs_background": "light"
     },
     "output_type": "display_data"
    },
    {
     "data": {
      "image/png": "[encoded data removed]",
      "text/plain": [
       "<Figure size 144x144 with 1 Axes>"
      ]
     },
     "metadata": {
      "needs_background": "light"
     },
     "output_type": "display_data"
    },
    {
     "data": {
      "image/png": "[encoded data removed]",
      "text/plain": [
       "<Figure size 144x144 with 1 Axes>"
      ]
     },
     "metadata": {
      "needs_background": "light"
     },
     "output_type": "display_data"
    },
    {
     "data": {
      "image/png": "[encoded data removed]",
      "text/plain": [
       "<Figure size 144x144 with 1 Axes>"
      ]
     },
     "metadata": {
      "needs_background": "light"
     },
     "output_type": "display_data"
    },
    {
     "data": {
      "image/png": "[encoded data removed]",
      "text/plain": [
       "<Figure size 144x144 with 1 Axes>"
      ]
     },
     "metadata": {
      "needs_background": "light"
     },
     "output_type": "display_data"
    },
    {
     "data": {
      "image/png": "[encoded data removed]",
      "text/plain": [
       "<Figure size 144x144 with 1 Axes>"
      ]
     },
     "metadata": {
      "needs_background": "light"
     },
     "output_type": "display_data"
    },
    {
     "data": {
      "image/png": "[encoded data removed]",
      "text/plain": [
       "<Figure size 144x144 with 1 Axes>"
      ]
     },
     "metadata": {
      "needs_background": "light"
     },
     "output_type": "display_data"
    },
    {
     "data": {
      "image/png": "[encoded data removed]",
      "text/plain": [
       "<Figure size 144x144 with 1 Axes>"
      ]
     },
     "metadata": {
      "needs_background": "light"
     },
     "output_type": "display_data"
    },
    {
     "data": {
      "image/png": "[encoded data removed]",
      "text/plain": [
       "<Figure size 144x144 with 1 Axes>"
      ]
     },
     "metadata": {
      "needs_background": "light"
     },
     "output_type": "display_data"
    },
    {
     "data": {
      "image/png": "[encoded data removed]",
      "text/plain": [
       "<Figure size 144x144 with 1 Axes>"
      ]
     },
     "metadata": {
      "needs_background": "light"
     },
     "output_type": "display_data"
    },
    {
     "data": {
      "image/png": "[encoded data removed]",
      "text/plain": [
       "<Figure size 144x144 with 1 Axes>"
      ]
     },
     "metadata": {
      "needs_background": "light"
     },
     "output_type": "display_data"
    },
    {
     "data": {
      "image/png": "[encoded data removed]",
      "text/plain": [
       "<Figure size 144x144 with 1 Axes>"
      ]
     },
     "metadata": {
      "needs_background": "light"
     },
     "output_type": "display_data"
    },
    {
     "data": {
      "image/png": "[encoded data removed]",
      "text/plain": [
       "<Figure size 144x144 with 1 Axes>"
      ]
     },
     "metadata": {
      "needs_background": "light"
     },
     "output_type": "display_data"
    },
    {
     "data": {
      "image/png": "[encoded data removed]",
      "text/plain": [
       "<Figure size 144x144 with 1 Axes>"
      ]
     },
     "metadata": {
      "needs_background": "light"
     },
     "output_type": "display_data"
    },
    {
     "data": {
      "image/png": "[encoded data removed]",
      "text/plain": [
       "<Figure size 144x144 with 1 Axes>"
      ]
     },
     "metadata": {
      "needs_background": "light"
     },
     "output_type": "display_data"
    },
    {
     "data": {
      "image/png": "[encoded data removed]",
      "text/plain": [
       "<Figure size 144x144 with 1 Axes>"
      ]
     },
     "metadata": {
      "needs_background": "light"
     },
     "output_type": "display_data"
    },
    {
     "data": {
      "image/png": "[encoded data removed]",
      "text/plain": [
       "<Figure size 144x144 with 1 Axes>"
      ]
     },
     "metadata": {
      "needs_background": "light"
     },
     "output_type": "display_data"
    },
    {
     "data": {
      "image/png": "[encoded data removed]",
      "text/plain": [
       "<Figure size 144x144 with 1 Axes>"
      ]
     },
     "metadata": {
      "needs_background": "light"
     },
     "output_type": "display_data"
    },
    {
     "data": {
      "image/png": "[encoded data removed]",
      "text/plain": [
       "<Figure size 144x144 with 1 Axes>"
      ]
     },
     "metadata": {
      "needs_background": "light"
     },
     "output_type": "display_data"
    },
    {
     "data": {
      "image/png": "[encoded data removed]",
      "text/plain": [
       "<Figure size 144x144 with 1 Axes>"
      ]
     },
     "metadata": {
      "needs_background": "light"
     },
     "output_type": "display_data"
    },
    {
     "data": {
      "image/png": "[encoded data removed]",
      "text/plain": [
       "<Figure size 144x144 with 1 Axes>"
      ]
     },
     "metadata": {
      "needs_background": "light"
     },
     "output_type": "display_data"
    },
    {
     "data": {
      "image/png": "[encoded data removed]",
      "text/plain": [
       "<Figure size 144x144 with 1 Axes>"
      ]
     },
     "metadata": {
      "needs_background": "light"
     },
     "output_type": "display_data"
    },
    {
     "data": {
      "image/png": "[encoded data removed]",
      "text/plain": [
       "<Figure size 144x144 with 1 Axes>"
      ]
     },
     "metadata": {
      "needs_background": "light"
     },
     "output_type": "display_data"
    },
    {
     "data": {
      "image/png": "[encoded data removed]",
      "text/plain": [
       "<Figure size 144x144 with 1 Axes>"
      ]
     },
     "metadata": {
      "needs_background": "light"
     },
     "output_type": "display_data"
    },
    {
     "data": {
      "image/png": "[encoded data removed]",
      "text/plain": [
       "<Figure size 144x144 with 1 Axes>"
      ]
     },
     "metadata": {
      "needs_background": "light"
     },
     "output_type": "display_data"
    },
    {
     "data": {
      "image/png": "[encoded data removed]",
      "text/plain": [
       "<Figure size 144x144 with 1 Axes>"
      ]
     },
     "metadata": {
      "needs_background": "light"
     },
     "output_type": "display_data"
    },
    {
     "data": {
      "image/png": "[encoded data removed]",
      "text/plain": [
       "<Figure size 144x144 with 1 Axes>"
      ]
     },
     "metadata": {
      "needs_background": "light"
     },
     "output_type": "display_data"
    },
    {
     "data": {
      "image/png": "[encoded data removed]",
      "text/plain": [
       "<Figure size 144x144 with 1 Axes>"
      ]
     },
     "metadata": {
      "needs_background": "light"
     },
     "output_type": "display_data"
    },
    {
     "data": {
      "image/png": "[encoded data removed]",
      "text/plain": [
       "<Figure size 144x144 with 1 Axes>"
      ]
     },
     "metadata": {
      "needs_background": "light"
     },
     "output_type": "display_data"
    },
    {
     "data": {
      "image/png": "[encoded data removed]",
      "text/plain": [
       "<Figure size 144x144 with 1 Axes>"
      ]
     },
     "metadata": {
      "needs_background": "light"
     },
     "output_type": "display_data"
    },
    {
     "data": {
      "image/png": "[encoded data removed]",
      "text/plain": [
       "<Figure size 144x144 with 1 Axes>"
      ]
     },
     "metadata": {
      "needs_background": "light"
     },
     "output_type": "display_data"
    },
    {
     "data": {
      "image/png": "[encoded data removed]",
      "text/plain": [
       "<Figure size 144x144 with 1 Axes>"
      ]
     },
     "metadata": {
      "needs_background": "light"
     },
     "output_type": "display_data"
    }
   ],
   "source": [
    "# TEST DATA MISSINGNESS\n",
    "\n",
    "# Raw data has several columns with missing data\n",
    "print( test_df_raw.isnull().sum(axis=0)[test_df_raw.isnull().sum(axis=0) != 0])\n",
    "print(\"\")\n",
    "\n",
    "#Types of missing data\n",
    "df_missing_data2 = test_df_raw.isnull().sum(axis=0)[test_df_raw.isnull().sum(axis=0) != 0].index\n",
    "print(test_df_raw[df_missing_data2].dtypes)\n",
    "print(\"\")\n",
    "\n",
    "# Code to see which sample Id has missing data per feature\n",
    "feature='MasVnrType'\n",
    "print(\"Feature %s has NaN at following indices:\" %feature, test_df_raw[\"Id\"][test_df_raw[feature].isnull()].unique())\n",
    "print(\"\")\n",
    "\n",
    "#histograms of features with missing data\n",
    "print(\"Number of features with missing data:\", len(df_missing_data2))\n",
    "for i in range(len(df_missing_data2)):\n",
    "    test_df_raw[df_missing_data2[i]].hist(figsize=(2,2))\n",
    "    plt.show()"
   ]
  },
  {
   "cell_type": "code",
   "execution_count": 5,
   "metadata": {},
   "outputs": [
    {
     "name": "stdout",
     "output_type": "stream",
     "text": [
      "Train Data w/ NaN? -> Series([], dtype: int64)\n",
      "Test Data w/ NaN? -> Series([], dtype: int64)\n",
      "(1460, 62)\n",
      "(1459, 47)\n"
     ]
    }
   ],
   "source": [
    "#Drop columns with NA rows\n",
    "train_df=train_df_raw.dropna(axis=1)\n",
    "test_df=test_df_raw.dropna(axis=1)\n",
    "\n",
    "# check if dropping NA worked\n",
    "print(\"Train Data w/ NaN? ->\", train_df.isnull().sum(axis=0)[train_df.isnull().sum(axis=0) != 0])\n",
    "print(\"Test Data w/ NaN? ->\", test_df.isnull().sum(axis=0)[test_df.isnull().sum(axis=0) != 0])\n",
    "#Series is empty means all the NaN data is removed.\n",
    "\n",
    "print(train_df.shape)\n",
    "print(test_df.shape)"
   ]
  },
  {
   "cell_type": "markdown",
   "metadata": {},
   "source": [
    "### Generate Summary Statistics"
   ]
  },
  {
   "cell_type": "code",
   "execution_count": 6,
   "metadata": {},
   "outputs": [
    {
     "data": {
      "text/html": [
       "<div>\n",
       "<style scoped>\n",
       "    .dataframe tbody tr th:only-of-type {\n",
       "        vertical-align: middle;\n",
       "    }\n",
       "\n",
       "    .dataframe tbody tr th {\n",
       "        vertical-align: top;\n",
       "    }\n",
       "\n",
       "    .dataframe thead th {\n",
       "        text-align: right;\n",
       "    }\n",
       "</style>\n",
       "<table border=\"1\" class=\"dataframe\">\n",
       "  <thead>\n",
       "    <tr style=\"text-align: right;\">\n",
       "      <th></th>\n",
       "      <th>Id</th>\n",
       "      <th>MSSubClass</th>\n",
       "      <th>MSZoning</th>\n",
       "      <th>LotArea</th>\n",
       "      <th>Street</th>\n",
       "      <th>LotShape</th>\n",
       "      <th>LandContour</th>\n",
       "      <th>Utilities</th>\n",
       "      <th>LotConfig</th>\n",
       "      <th>LandSlope</th>\n",
       "      <th>...</th>\n",
       "      <th>EnclosedPorch</th>\n",
       "      <th>3SsnPorch</th>\n",
       "      <th>ScreenPorch</th>\n",
       "      <th>PoolArea</th>\n",
       "      <th>MiscVal</th>\n",
       "      <th>MoSold</th>\n",
       "      <th>YrSold</th>\n",
       "      <th>SaleType</th>\n",
       "      <th>SaleCondition</th>\n",
       "      <th>SalePrice</th>\n",
       "    </tr>\n",
       "  </thead>\n",
       "  <tbody>\n",
       "    <tr>\n",
       "      <th>count</th>\n",
       "      <td>1460.000000</td>\n",
       "      <td>1460.000000</td>\n",
       "      <td>1460</td>\n",
       "      <td>1460.000000</td>\n",
       "      <td>1460</td>\n",
       "      <td>1460</td>\n",
       "      <td>1460</td>\n",
       "      <td>1460</td>\n",
       "      <td>1460</td>\n",
       "      <td>1460</td>\n",
       "      <td>...</td>\n",
       "      <td>1460.000000</td>\n",
       "      <td>1460.000000</td>\n",
       "      <td>1460.000000</td>\n",
       "      <td>1460.000000</td>\n",
       "      <td>1460.000000</td>\n",
       "      <td>1460.000000</td>\n",
       "      <td>1460.000000</td>\n",
       "      <td>1460</td>\n",
       "      <td>1460</td>\n",
       "      <td>1460.000000</td>\n",
       "    </tr>\n",
       "    <tr>\n",
       "      <th>unique</th>\n",
       "      <td>NaN</td>\n",
       "      <td>NaN</td>\n",
       "      <td>5</td>\n",
       "      <td>NaN</td>\n",
       "      <td>2</td>\n",
       "      <td>4</td>\n",
       "      <td>4</td>\n",
       "      <td>2</td>\n",
       "      <td>5</td>\n",
       "      <td>3</td>\n",
       "      <td>...</td>\n",
       "      <td>NaN</td>\n",
       "      <td>NaN</td>\n",
       "      <td>NaN</td>\n",
       "      <td>NaN</td>\n",
       "      <td>NaN</td>\n",
       "      <td>NaN</td>\n",
       "      <td>NaN</td>\n",
       "      <td>9</td>\n",
       "      <td>6</td>\n",
       "      <td>NaN</td>\n",
       "    </tr>\n",
       "    <tr>\n",
       "      <th>top</th>\n",
       "      <td>NaN</td>\n",
       "      <td>NaN</td>\n",
       "      <td>RL</td>\n",
       "      <td>NaN</td>\n",
       "      <td>Pave</td>\n",
       "      <td>Reg</td>\n",
       "      <td>Lvl</td>\n",
       "      <td>AllPub</td>\n",
       "      <td>Inside</td>\n",
       "      <td>Gtl</td>\n",
       "      <td>...</td>\n",
       "      <td>NaN</td>\n",
       "      <td>NaN</td>\n",
       "      <td>NaN</td>\n",
       "      <td>NaN</td>\n",
       "      <td>NaN</td>\n",
       "      <td>NaN</td>\n",
       "      <td>NaN</td>\n",
       "      <td>WD</td>\n",
       "      <td>Normal</td>\n",
       "      <td>NaN</td>\n",
       "    </tr>\n",
       "    <tr>\n",
       "      <th>freq</th>\n",
       "      <td>NaN</td>\n",
       "      <td>NaN</td>\n",
       "      <td>1151</td>\n",
       "      <td>NaN</td>\n",
       "      <td>1454</td>\n",
       "      <td>925</td>\n",
       "      <td>1311</td>\n",
       "      <td>1459</td>\n",
       "      <td>1052</td>\n",
       "      <td>1382</td>\n",
       "      <td>...</td>\n",
       "      <td>NaN</td>\n",
       "      <td>NaN</td>\n",
       "      <td>NaN</td>\n",
       "      <td>NaN</td>\n",
       "      <td>NaN</td>\n",
       "      <td>NaN</td>\n",
       "      <td>NaN</td>\n",
       "      <td>1267</td>\n",
       "      <td>1198</td>\n",
       "      <td>NaN</td>\n",
       "    </tr>\n",
       "    <tr>\n",
       "      <th>mean</th>\n",
       "      <td>730.500000</td>\n",
       "      <td>56.897260</td>\n",
       "      <td>NaN</td>\n",
       "      <td>10516.828082</td>\n",
       "      <td>NaN</td>\n",
       "      <td>NaN</td>\n",
       "      <td>NaN</td>\n",
       "      <td>NaN</td>\n",
       "      <td>NaN</td>\n",
       "      <td>NaN</td>\n",
       "      <td>...</td>\n",
       "      <td>21.954110</td>\n",
       "      <td>3.409589</td>\n",
       "      <td>15.060959</td>\n",
       "      <td>2.758904</td>\n",
       "      <td>43.489041</td>\n",
       "      <td>6.321918</td>\n",
       "      <td>2007.815753</td>\n",
       "      <td>NaN</td>\n",
       "      <td>NaN</td>\n",
       "      <td>180921.195890</td>\n",
       "    </tr>\n",
       "    <tr>\n",
       "      <th>std</th>\n",
       "      <td>421.610009</td>\n",
       "      <td>42.300571</td>\n",
       "      <td>NaN</td>\n",
       "      <td>9981.264932</td>\n",
       "      <td>NaN</td>\n",
       "      <td>NaN</td>\n",
       "      <td>NaN</td>\n",
       "      <td>NaN</td>\n",
       "      <td>NaN</td>\n",
       "      <td>NaN</td>\n",
       "      <td>...</td>\n",
       "      <td>61.119149</td>\n",
       "      <td>29.317331</td>\n",
       "      <td>55.757415</td>\n",
       "      <td>40.177307</td>\n",
       "      <td>496.123024</td>\n",
       "      <td>2.703626</td>\n",
       "      <td>1.328095</td>\n",
       "      <td>NaN</td>\n",
       "      <td>NaN</td>\n",
       "      <td>79442.502883</td>\n",
       "    </tr>\n",
       "    <tr>\n",
       "      <th>min</th>\n",
       "      <td>1.000000</td>\n",
       "      <td>20.000000</td>\n",
       "      <td>NaN</td>\n",
       "      <td>1300.000000</td>\n",
       "      <td>NaN</td>\n",
       "      <td>NaN</td>\n",
       "      <td>NaN</td>\n",
       "      <td>NaN</td>\n",
       "      <td>NaN</td>\n",
       "      <td>NaN</td>\n",
       "      <td>...</td>\n",
       "      <td>0.000000</td>\n",
       "      <td>0.000000</td>\n",
       "      <td>0.000000</td>\n",
       "      <td>0.000000</td>\n",
       "      <td>0.000000</td>\n",
       "      <td>1.000000</td>\n",
       "      <td>2006.000000</td>\n",
       "      <td>NaN</td>\n",
       "      <td>NaN</td>\n",
       "      <td>34900.000000</td>\n",
       "    </tr>\n",
       "    <tr>\n",
       "      <th>25%</th>\n",
       "      <td>365.750000</td>\n",
       "      <td>20.000000</td>\n",
       "      <td>NaN</td>\n",
       "      <td>7553.500000</td>\n",
       "      <td>NaN</td>\n",
       "      <td>NaN</td>\n",
       "      <td>NaN</td>\n",
       "      <td>NaN</td>\n",
       "      <td>NaN</td>\n",
       "      <td>NaN</td>\n",
       "      <td>...</td>\n",
       "      <td>0.000000</td>\n",
       "      <td>0.000000</td>\n",
       "      <td>0.000000</td>\n",
       "      <td>0.000000</td>\n",
       "      <td>0.000000</td>\n",
       "      <td>5.000000</td>\n",
       "      <td>2007.000000</td>\n",
       "      <td>NaN</td>\n",
       "      <td>NaN</td>\n",
       "      <td>129975.000000</td>\n",
       "    </tr>\n",
       "    <tr>\n",
       "      <th>50%</th>\n",
       "      <td>730.500000</td>\n",
       "      <td>50.000000</td>\n",
       "      <td>NaN</td>\n",
       "      <td>9478.500000</td>\n",
       "      <td>NaN</td>\n",
       "      <td>NaN</td>\n",
       "      <td>NaN</td>\n",
       "      <td>NaN</td>\n",
       "      <td>NaN</td>\n",
       "      <td>NaN</td>\n",
       "      <td>...</td>\n",
       "      <td>0.000000</td>\n",
       "      <td>0.000000</td>\n",
       "      <td>0.000000</td>\n",
       "      <td>0.000000</td>\n",
       "      <td>0.000000</td>\n",
       "      <td>6.000000</td>\n",
       "      <td>2008.000000</td>\n",
       "      <td>NaN</td>\n",
       "      <td>NaN</td>\n",
       "      <td>163000.000000</td>\n",
       "    </tr>\n",
       "    <tr>\n",
       "      <th>75%</th>\n",
       "      <td>1095.250000</td>\n",
       "      <td>70.000000</td>\n",
       "      <td>NaN</td>\n",
       "      <td>11601.500000</td>\n",
       "      <td>NaN</td>\n",
       "      <td>NaN</td>\n",
       "      <td>NaN</td>\n",
       "      <td>NaN</td>\n",
       "      <td>NaN</td>\n",
       "      <td>NaN</td>\n",
       "      <td>...</td>\n",
       "      <td>0.000000</td>\n",
       "      <td>0.000000</td>\n",
       "      <td>0.000000</td>\n",
       "      <td>0.000000</td>\n",
       "      <td>0.000000</td>\n",
       "      <td>8.000000</td>\n",
       "      <td>2009.000000</td>\n",
       "      <td>NaN</td>\n",
       "      <td>NaN</td>\n",
       "      <td>214000.000000</td>\n",
       "    </tr>\n",
       "    <tr>\n",
       "      <th>max</th>\n",
       "      <td>1460.000000</td>\n",
       "      <td>190.000000</td>\n",
       "      <td>NaN</td>\n",
       "      <td>215245.000000</td>\n",
       "      <td>NaN</td>\n",
       "      <td>NaN</td>\n",
       "      <td>NaN</td>\n",
       "      <td>NaN</td>\n",
       "      <td>NaN</td>\n",
       "      <td>NaN</td>\n",
       "      <td>...</td>\n",
       "      <td>552.000000</td>\n",
       "      <td>508.000000</td>\n",
       "      <td>480.000000</td>\n",
       "      <td>738.000000</td>\n",
       "      <td>15500.000000</td>\n",
       "      <td>12.000000</td>\n",
       "      <td>2010.000000</td>\n",
       "      <td>NaN</td>\n",
       "      <td>NaN</td>\n",
       "      <td>755000.000000</td>\n",
       "    </tr>\n",
       "  </tbody>\n",
       "</table>\n",
       "<p>11 rows × 62 columns</p>\n",
       "</div>"
      ],
      "text/plain": [
       "                 Id   MSSubClass MSZoning        LotArea Street LotShape  \\\n",
       "count   1460.000000  1460.000000     1460    1460.000000   1460     1460   \n",
       "unique          NaN          NaN        5            NaN      2        4   \n",
       "top             NaN          NaN       RL            NaN   Pave      Reg   \n",
       "freq            NaN          NaN     1151            NaN   1454      925   \n",
       "mean     730.500000    56.897260      NaN   10516.828082    NaN      NaN   \n",
       "std      421.610009    42.300571      NaN    9981.264932    NaN      NaN   \n",
       "min        1.000000    20.000000      NaN    1300.000000    NaN      NaN   \n",
       "25%      365.750000    20.000000      NaN    7553.500000    NaN      NaN   \n",
       "50%      730.500000    50.000000      NaN    9478.500000    NaN      NaN   \n",
       "75%     1095.250000    70.000000      NaN   11601.500000    NaN      NaN   \n",
       "max     1460.000000   190.000000      NaN  215245.000000    NaN      NaN   \n",
       "\n",
       "       LandContour Utilities LotConfig LandSlope  ... EnclosedPorch  \\\n",
       "count         1460      1460      1460      1460  ...   1460.000000   \n",
       "unique           4         2         5         3  ...           NaN   \n",
       "top            Lvl    AllPub    Inside       Gtl  ...           NaN   \n",
       "freq          1311      1459      1052      1382  ...           NaN   \n",
       "mean           NaN       NaN       NaN       NaN  ...     21.954110   \n",
       "std            NaN       NaN       NaN       NaN  ...     61.119149   \n",
       "min            NaN       NaN       NaN       NaN  ...      0.000000   \n",
       "25%            NaN       NaN       NaN       NaN  ...      0.000000   \n",
       "50%            NaN       NaN       NaN       NaN  ...      0.000000   \n",
       "75%            NaN       NaN       NaN       NaN  ...      0.000000   \n",
       "max            NaN       NaN       NaN       NaN  ...    552.000000   \n",
       "\n",
       "          3SsnPorch  ScreenPorch     PoolArea       MiscVal       MoSold  \\\n",
       "count   1460.000000  1460.000000  1460.000000   1460.000000  1460.000000   \n",
       "unique          NaN          NaN          NaN           NaN          NaN   \n",
       "top             NaN          NaN          NaN           NaN          NaN   \n",
       "freq            NaN          NaN          NaN           NaN          NaN   \n",
       "mean       3.409589    15.060959     2.758904     43.489041     6.321918   \n",
       "std       29.317331    55.757415    40.177307    496.123024     2.703626   \n",
       "min        0.000000     0.000000     0.000000      0.000000     1.000000   \n",
       "25%        0.000000     0.000000     0.000000      0.000000     5.000000   \n",
       "50%        0.000000     0.000000     0.000000      0.000000     6.000000   \n",
       "75%        0.000000     0.000000     0.000000      0.000000     8.000000   \n",
       "max      508.000000   480.000000   738.000000  15500.000000    12.000000   \n",
       "\n",
       "             YrSold  SaleType  SaleCondition      SalePrice  \n",
       "count   1460.000000      1460           1460    1460.000000  \n",
       "unique          NaN         9              6            NaN  \n",
       "top             NaN        WD         Normal            NaN  \n",
       "freq            NaN      1267           1198            NaN  \n",
       "mean    2007.815753       NaN            NaN  180921.195890  \n",
       "std        1.328095       NaN            NaN   79442.502883  \n",
       "min     2006.000000       NaN            NaN   34900.000000  \n",
       "25%     2007.000000       NaN            NaN  129975.000000  \n",
       "50%     2008.000000       NaN            NaN  163000.000000  \n",
       "75%     2009.000000       NaN            NaN  214000.000000  \n",
       "max     2010.000000       NaN            NaN  755000.000000  \n",
       "\n",
       "[11 rows x 62 columns]"
      ]
     },
     "execution_count": 6,
     "metadata": {},
     "output_type": "execute_result"
    }
   ],
   "source": [
    "train_df.describe(include = 'all')"
   ]
  },
  {
   "cell_type": "code",
   "execution_count": 7,
   "metadata": {},
   "outputs": [
    {
     "data": {
      "text/html": [
       "<div>\n",
       "<style scoped>\n",
       "    .dataframe tbody tr th:only-of-type {\n",
       "        vertical-align: middle;\n",
       "    }\n",
       "\n",
       "    .dataframe tbody tr th {\n",
       "        vertical-align: top;\n",
       "    }\n",
       "\n",
       "    .dataframe thead th {\n",
       "        text-align: right;\n",
       "    }\n",
       "</style>\n",
       "<table border=\"1\" class=\"dataframe\">\n",
       "  <thead>\n",
       "    <tr style=\"text-align: right;\">\n",
       "      <th></th>\n",
       "      <th>Id</th>\n",
       "      <th>MSSubClass</th>\n",
       "      <th>LotArea</th>\n",
       "      <th>Street</th>\n",
       "      <th>LotShape</th>\n",
       "      <th>LandContour</th>\n",
       "      <th>LotConfig</th>\n",
       "      <th>LandSlope</th>\n",
       "      <th>Neighborhood</th>\n",
       "      <th>Condition1</th>\n",
       "      <th>...</th>\n",
       "      <th>WoodDeckSF</th>\n",
       "      <th>OpenPorchSF</th>\n",
       "      <th>EnclosedPorch</th>\n",
       "      <th>3SsnPorch</th>\n",
       "      <th>ScreenPorch</th>\n",
       "      <th>PoolArea</th>\n",
       "      <th>MiscVal</th>\n",
       "      <th>MoSold</th>\n",
       "      <th>YrSold</th>\n",
       "      <th>SaleCondition</th>\n",
       "    </tr>\n",
       "  </thead>\n",
       "  <tbody>\n",
       "    <tr>\n",
       "      <th>count</th>\n",
       "      <td>1459.000000</td>\n",
       "      <td>1459.000000</td>\n",
       "      <td>1459.000000</td>\n",
       "      <td>1459</td>\n",
       "      <td>1459</td>\n",
       "      <td>1459</td>\n",
       "      <td>1459</td>\n",
       "      <td>1459</td>\n",
       "      <td>1459</td>\n",
       "      <td>1459</td>\n",
       "      <td>...</td>\n",
       "      <td>1459.000000</td>\n",
       "      <td>1459.000000</td>\n",
       "      <td>1459.000000</td>\n",
       "      <td>1459.000000</td>\n",
       "      <td>1459.000000</td>\n",
       "      <td>1459.000000</td>\n",
       "      <td>1459.000000</td>\n",
       "      <td>1459.000000</td>\n",
       "      <td>1459.000000</td>\n",
       "      <td>1459</td>\n",
       "    </tr>\n",
       "    <tr>\n",
       "      <th>unique</th>\n",
       "      <td>NaN</td>\n",
       "      <td>NaN</td>\n",
       "      <td>NaN</td>\n",
       "      <td>2</td>\n",
       "      <td>4</td>\n",
       "      <td>4</td>\n",
       "      <td>5</td>\n",
       "      <td>3</td>\n",
       "      <td>25</td>\n",
       "      <td>9</td>\n",
       "      <td>...</td>\n",
       "      <td>NaN</td>\n",
       "      <td>NaN</td>\n",
       "      <td>NaN</td>\n",
       "      <td>NaN</td>\n",
       "      <td>NaN</td>\n",
       "      <td>NaN</td>\n",
       "      <td>NaN</td>\n",
       "      <td>NaN</td>\n",
       "      <td>NaN</td>\n",
       "      <td>6</td>\n",
       "    </tr>\n",
       "    <tr>\n",
       "      <th>top</th>\n",
       "      <td>NaN</td>\n",
       "      <td>NaN</td>\n",
       "      <td>NaN</td>\n",
       "      <td>Pave</td>\n",
       "      <td>Reg</td>\n",
       "      <td>Lvl</td>\n",
       "      <td>Inside</td>\n",
       "      <td>Gtl</td>\n",
       "      <td>NAmes</td>\n",
       "      <td>Norm</td>\n",
       "      <td>...</td>\n",
       "      <td>NaN</td>\n",
       "      <td>NaN</td>\n",
       "      <td>NaN</td>\n",
       "      <td>NaN</td>\n",
       "      <td>NaN</td>\n",
       "      <td>NaN</td>\n",
       "      <td>NaN</td>\n",
       "      <td>NaN</td>\n",
       "      <td>NaN</td>\n",
       "      <td>Normal</td>\n",
       "    </tr>\n",
       "    <tr>\n",
       "      <th>freq</th>\n",
       "      <td>NaN</td>\n",
       "      <td>NaN</td>\n",
       "      <td>NaN</td>\n",
       "      <td>1453</td>\n",
       "      <td>934</td>\n",
       "      <td>1311</td>\n",
       "      <td>1081</td>\n",
       "      <td>1396</td>\n",
       "      <td>218</td>\n",
       "      <td>1251</td>\n",
       "      <td>...</td>\n",
       "      <td>NaN</td>\n",
       "      <td>NaN</td>\n",
       "      <td>NaN</td>\n",
       "      <td>NaN</td>\n",
       "      <td>NaN</td>\n",
       "      <td>NaN</td>\n",
       "      <td>NaN</td>\n",
       "      <td>NaN</td>\n",
       "      <td>NaN</td>\n",
       "      <td>1204</td>\n",
       "    </tr>\n",
       "    <tr>\n",
       "      <th>mean</th>\n",
       "      <td>2190.000000</td>\n",
       "      <td>57.378341</td>\n",
       "      <td>9819.161069</td>\n",
       "      <td>NaN</td>\n",
       "      <td>NaN</td>\n",
       "      <td>NaN</td>\n",
       "      <td>NaN</td>\n",
       "      <td>NaN</td>\n",
       "      <td>NaN</td>\n",
       "      <td>NaN</td>\n",
       "      <td>...</td>\n",
       "      <td>93.174777</td>\n",
       "      <td>48.313914</td>\n",
       "      <td>24.243317</td>\n",
       "      <td>1.794380</td>\n",
       "      <td>17.064428</td>\n",
       "      <td>1.744345</td>\n",
       "      <td>58.167923</td>\n",
       "      <td>6.104181</td>\n",
       "      <td>2007.769705</td>\n",
       "      <td>NaN</td>\n",
       "    </tr>\n",
       "    <tr>\n",
       "      <th>std</th>\n",
       "      <td>421.321334</td>\n",
       "      <td>42.746880</td>\n",
       "      <td>4955.517327</td>\n",
       "      <td>NaN</td>\n",
       "      <td>NaN</td>\n",
       "      <td>NaN</td>\n",
       "      <td>NaN</td>\n",
       "      <td>NaN</td>\n",
       "      <td>NaN</td>\n",
       "      <td>NaN</td>\n",
       "      <td>...</td>\n",
       "      <td>127.744882</td>\n",
       "      <td>68.883364</td>\n",
       "      <td>67.227765</td>\n",
       "      <td>20.207842</td>\n",
       "      <td>56.609763</td>\n",
       "      <td>30.491646</td>\n",
       "      <td>630.806978</td>\n",
       "      <td>2.722432</td>\n",
       "      <td>1.301740</td>\n",
       "      <td>NaN</td>\n",
       "    </tr>\n",
       "    <tr>\n",
       "      <th>min</th>\n",
       "      <td>1461.000000</td>\n",
       "      <td>20.000000</td>\n",
       "      <td>1470.000000</td>\n",
       "      <td>NaN</td>\n",
       "      <td>NaN</td>\n",
       "      <td>NaN</td>\n",
       "      <td>NaN</td>\n",
       "      <td>NaN</td>\n",
       "      <td>NaN</td>\n",
       "      <td>NaN</td>\n",
       "      <td>...</td>\n",
       "      <td>0.000000</td>\n",
       "      <td>0.000000</td>\n",
       "      <td>0.000000</td>\n",
       "      <td>0.000000</td>\n",
       "      <td>0.000000</td>\n",
       "      <td>0.000000</td>\n",
       "      <td>0.000000</td>\n",
       "      <td>1.000000</td>\n",
       "      <td>2006.000000</td>\n",
       "      <td>NaN</td>\n",
       "    </tr>\n",
       "    <tr>\n",
       "      <th>25%</th>\n",
       "      <td>1825.500000</td>\n",
       "      <td>20.000000</td>\n",
       "      <td>7391.000000</td>\n",
       "      <td>NaN</td>\n",
       "      <td>NaN</td>\n",
       "      <td>NaN</td>\n",
       "      <td>NaN</td>\n",
       "      <td>NaN</td>\n",
       "      <td>NaN</td>\n",
       "      <td>NaN</td>\n",
       "      <td>...</td>\n",
       "      <td>0.000000</td>\n",
       "      <td>0.000000</td>\n",
       "      <td>0.000000</td>\n",
       "      <td>0.000000</td>\n",
       "      <td>0.000000</td>\n",
       "      <td>0.000000</td>\n",
       "      <td>0.000000</td>\n",
       "      <td>4.000000</td>\n",
       "      <td>2007.000000</td>\n",
       "      <td>NaN</td>\n",
       "    </tr>\n",
       "    <tr>\n",
       "      <th>50%</th>\n",
       "      <td>2190.000000</td>\n",
       "      <td>50.000000</td>\n",
       "      <td>9399.000000</td>\n",
       "      <td>NaN</td>\n",
       "      <td>NaN</td>\n",
       "      <td>NaN</td>\n",
       "      <td>NaN</td>\n",
       "      <td>NaN</td>\n",
       "      <td>NaN</td>\n",
       "      <td>NaN</td>\n",
       "      <td>...</td>\n",
       "      <td>0.000000</td>\n",
       "      <td>28.000000</td>\n",
       "      <td>0.000000</td>\n",
       "      <td>0.000000</td>\n",
       "      <td>0.000000</td>\n",
       "      <td>0.000000</td>\n",
       "      <td>0.000000</td>\n",
       "      <td>6.000000</td>\n",
       "      <td>2008.000000</td>\n",
       "      <td>NaN</td>\n",
       "    </tr>\n",
       "    <tr>\n",
       "      <th>75%</th>\n",
       "      <td>2554.500000</td>\n",
       "      <td>70.000000</td>\n",
       "      <td>11517.500000</td>\n",
       "      <td>NaN</td>\n",
       "      <td>NaN</td>\n",
       "      <td>NaN</td>\n",
       "      <td>NaN</td>\n",
       "      <td>NaN</td>\n",
       "      <td>NaN</td>\n",
       "      <td>NaN</td>\n",
       "      <td>...</td>\n",
       "      <td>168.000000</td>\n",
       "      <td>72.000000</td>\n",
       "      <td>0.000000</td>\n",
       "      <td>0.000000</td>\n",
       "      <td>0.000000</td>\n",
       "      <td>0.000000</td>\n",
       "      <td>0.000000</td>\n",
       "      <td>8.000000</td>\n",
       "      <td>2009.000000</td>\n",
       "      <td>NaN</td>\n",
       "    </tr>\n",
       "    <tr>\n",
       "      <th>max</th>\n",
       "      <td>2919.000000</td>\n",
       "      <td>190.000000</td>\n",
       "      <td>56600.000000</td>\n",
       "      <td>NaN</td>\n",
       "      <td>NaN</td>\n",
       "      <td>NaN</td>\n",
       "      <td>NaN</td>\n",
       "      <td>NaN</td>\n",
       "      <td>NaN</td>\n",
       "      <td>NaN</td>\n",
       "      <td>...</td>\n",
       "      <td>1424.000000</td>\n",
       "      <td>742.000000</td>\n",
       "      <td>1012.000000</td>\n",
       "      <td>360.000000</td>\n",
       "      <td>576.000000</td>\n",
       "      <td>800.000000</td>\n",
       "      <td>17000.000000</td>\n",
       "      <td>12.000000</td>\n",
       "      <td>2010.000000</td>\n",
       "      <td>NaN</td>\n",
       "    </tr>\n",
       "  </tbody>\n",
       "</table>\n",
       "<p>11 rows × 47 columns</p>\n",
       "</div>"
      ],
      "text/plain": [
       "                 Id   MSSubClass       LotArea Street LotShape LandContour  \\\n",
       "count   1459.000000  1459.000000   1459.000000   1459     1459        1459   \n",
       "unique          NaN          NaN           NaN      2        4           4   \n",
       "top             NaN          NaN           NaN   Pave      Reg         Lvl   \n",
       "freq            NaN          NaN           NaN   1453      934        1311   \n",
       "mean    2190.000000    57.378341   9819.161069    NaN      NaN         NaN   \n",
       "std      421.321334    42.746880   4955.517327    NaN      NaN         NaN   \n",
       "min     1461.000000    20.000000   1470.000000    NaN      NaN         NaN   \n",
       "25%     1825.500000    20.000000   7391.000000    NaN      NaN         NaN   \n",
       "50%     2190.000000    50.000000   9399.000000    NaN      NaN         NaN   \n",
       "75%     2554.500000    70.000000  11517.500000    NaN      NaN         NaN   \n",
       "max     2919.000000   190.000000  56600.000000    NaN      NaN         NaN   \n",
       "\n",
       "       LotConfig LandSlope Neighborhood Condition1  ...   WoodDeckSF  \\\n",
       "count       1459      1459         1459       1459  ...  1459.000000   \n",
       "unique         5         3           25          9  ...          NaN   \n",
       "top       Inside       Gtl        NAmes       Norm  ...          NaN   \n",
       "freq        1081      1396          218       1251  ...          NaN   \n",
       "mean         NaN       NaN          NaN        NaN  ...    93.174777   \n",
       "std          NaN       NaN          NaN        NaN  ...   127.744882   \n",
       "min          NaN       NaN          NaN        NaN  ...     0.000000   \n",
       "25%          NaN       NaN          NaN        NaN  ...     0.000000   \n",
       "50%          NaN       NaN          NaN        NaN  ...     0.000000   \n",
       "75%          NaN       NaN          NaN        NaN  ...   168.000000   \n",
       "max          NaN       NaN          NaN        NaN  ...  1424.000000   \n",
       "\n",
       "        OpenPorchSF EnclosedPorch    3SsnPorch  ScreenPorch     PoolArea  \\\n",
       "count   1459.000000   1459.000000  1459.000000  1459.000000  1459.000000   \n",
       "unique          NaN           NaN          NaN          NaN          NaN   \n",
       "top             NaN           NaN          NaN          NaN          NaN   \n",
       "freq            NaN           NaN          NaN          NaN          NaN   \n",
       "mean      48.313914     24.243317     1.794380    17.064428     1.744345   \n",
       "std       68.883364     67.227765    20.207842    56.609763    30.491646   \n",
       "min        0.000000      0.000000     0.000000     0.000000     0.000000   \n",
       "25%        0.000000      0.000000     0.000000     0.000000     0.000000   \n",
       "50%       28.000000      0.000000     0.000000     0.000000     0.000000   \n",
       "75%       72.000000      0.000000     0.000000     0.000000     0.000000   \n",
       "max      742.000000   1012.000000   360.000000   576.000000   800.000000   \n",
       "\n",
       "             MiscVal       MoSold       YrSold SaleCondition  \n",
       "count    1459.000000  1459.000000  1459.000000          1459  \n",
       "unique           NaN          NaN          NaN             6  \n",
       "top              NaN          NaN          NaN        Normal  \n",
       "freq             NaN          NaN          NaN          1204  \n",
       "mean       58.167923     6.104181  2007.769705           NaN  \n",
       "std       630.806978     2.722432     1.301740           NaN  \n",
       "min         0.000000     1.000000  2006.000000           NaN  \n",
       "25%         0.000000     4.000000  2007.000000           NaN  \n",
       "50%         0.000000     6.000000  2008.000000           NaN  \n",
       "75%         0.000000     8.000000  2009.000000           NaN  \n",
       "max     17000.000000    12.000000  2010.000000           NaN  \n",
       "\n",
       "[11 rows x 47 columns]"
      ]
     },
     "execution_count": 7,
     "metadata": {},
     "output_type": "execute_result"
    }
   ],
   "source": [
    "test_df.describe(include = 'all')"
   ]
  },
  {
   "cell_type": "code",
   "execution_count": 8,
   "metadata": {},
   "outputs": [
    {
     "name": "stdout",
     "output_type": "stream",
     "text": [
      "Duplicates in Train Data: 0\n",
      "Duplicates in Test Data: 0\n"
     ]
    }
   ],
   "source": [
    "#Duplicates?\n",
    "\n",
    "# There are no perfectly duplicated rows\n",
    "print(\"Duplicates in Train Data:\",sum(train_df.duplicated()))\n",
    "print(\"Duplicates in Test Data:\",sum(test_df.duplicated()))"
   ]
  },
  {
   "cell_type": "markdown",
   "metadata": {},
   "source": [
    "### Train/Dev Data with a few columns"
   ]
  },
  {
   "cell_type": "code",
   "execution_count": 9,
   "metadata": {},
   "outputs": [
    {
     "data": {
      "text/html": [
       "<div>\n",
       "<style scoped>\n",
       "    .dataframe tbody tr th:only-of-type {\n",
       "        vertical-align: middle;\n",
       "    }\n",
       "\n",
       "    .dataframe tbody tr th {\n",
       "        vertical-align: top;\n",
       "    }\n",
       "\n",
       "    .dataframe thead th {\n",
       "        text-align: right;\n",
       "    }\n",
       "</style>\n",
       "<table border=\"1\" class=\"dataframe\">\n",
       "  <thead>\n",
       "    <tr style=\"text-align: right;\">\n",
       "      <th></th>\n",
       "      <th>GrLivArea</th>\n",
       "      <th>TotalBsmtSF</th>\n",
       "      <th>SalePrice</th>\n",
       "    </tr>\n",
       "  </thead>\n",
       "  <tbody>\n",
       "    <tr>\n",
       "      <th>0</th>\n",
       "      <td>1710</td>\n",
       "      <td>856</td>\n",
       "      <td>208500</td>\n",
       "    </tr>\n",
       "    <tr>\n",
       "      <th>1</th>\n",
       "      <td>1262</td>\n",
       "      <td>1262</td>\n",
       "      <td>181500</td>\n",
       "    </tr>\n",
       "    <tr>\n",
       "      <th>2</th>\n",
       "      <td>1786</td>\n",
       "      <td>920</td>\n",
       "      <td>223500</td>\n",
       "    </tr>\n",
       "    <tr>\n",
       "      <th>3</th>\n",
       "      <td>1717</td>\n",
       "      <td>756</td>\n",
       "      <td>140000</td>\n",
       "    </tr>\n",
       "    <tr>\n",
       "      <th>4</th>\n",
       "      <td>2198</td>\n",
       "      <td>1145</td>\n",
       "      <td>250000</td>\n",
       "    </tr>\n",
       "  </tbody>\n",
       "</table>\n",
       "</div>"
      ],
      "text/plain": [
       "   GrLivArea  TotalBsmtSF  SalePrice\n",
       "0       1710          856     208500\n",
       "1       1262         1262     181500\n",
       "2       1786          920     223500\n",
       "3       1717          756     140000\n",
       "4       2198         1145     250000"
      ]
     },
     "execution_count": 9,
     "metadata": {},
     "output_type": "execute_result"
    }
   ],
   "source": [
    "train_df\n",
    "sf_columns=['GrLivArea', 'TotalBsmtSF','SalePrice']\n",
    "train_df1=train_df[sf_columns]\n",
    "train_df1.head()\n",
    "# LotArea: Lot size in square feet\n",
    "# BsmtFinSF1: Type 1 finished square feet\n",
    "# BsmtFinSF2: Type 2 finished square feet\n",
    "# BsmtUnfSF: Unfinished square feet of basement area\n",
    "# TotalBsmtSF: Total square feet of basement area    \n",
    "# 1stFlrSF: First Floor square feet \n",
    "# 2ndFlrSF: Second floor square feet\n",
    "# LowQualFinSF: Low quality finished square feet (all floors)\n",
    "# GrLivArea: Above grade (ground) living area square feet    \n",
    "# GarageArea: Size of garage in square feet\n",
    "# WoodDeckSF: Wood deck area in square feet\n",
    "# OpenPorchSF: Open porch area in square feet\n",
    "# EnclosedPorch: Enclosed porch area in square feet\n",
    "# 3SsnPorch: Three season porch area in square feet\n",
    "# ScreenPorch: Screen porch area in square feet\n",
    "# PoolArea: Pool area in square feet"
   ]
  },
  {
   "cell_type": "code",
   "execution_count": 10,
   "metadata": {},
   "outputs": [
    {
     "data": {
      "text/plain": [
       "array([[<matplotlib.axes._subplots.AxesSubplot object at 0x000001B0432E7448>,\n",
       "        <matplotlib.axes._subplots.AxesSubplot object at 0x000001B04376D648>,\n",
       "        <matplotlib.axes._subplots.AxesSubplot object at 0x000001B0434D0888>],\n",
       "       [<matplotlib.axes._subplots.AxesSubplot object at 0x000001B043327108>,\n",
       "        <matplotlib.axes._subplots.AxesSubplot object at 0x000001B04385F208>,\n",
       "        <matplotlib.axes._subplots.AxesSubplot object at 0x000001B04344CE08>],\n",
       "       [<matplotlib.axes._subplots.AxesSubplot object at 0x000001B0436A8A48>,\n",
       "        <matplotlib.axes._subplots.AxesSubplot object at 0x000001B04352EFC8>,\n",
       "        <matplotlib.axes._subplots.AxesSubplot object at 0x000001B04351E148>]],\n",
       "      dtype=object)"
      ]
     },
     "execution_count": 10,
     "metadata": {},
     "output_type": "execute_result"
    },
    {
     "data": {
      "image/png": "[encoded data removed]",
      "text/plain": [
       "<Figure size 432x288 with 9 Axes>"
      ]
     },
     "metadata": {
      "needs_background": "light"
     },
     "output_type": "display_data"
    }
   ],
   "source": [
    "pd.plotting.scatter_matrix(train_df1)"
   ]
  },
  {
   "cell_type": "code",
   "execution_count": 34,
   "metadata": {},
   "outputs": [],
   "source": [
    "X = train_df1.iloc[:,:-1]\n",
    "y = train_df1.iloc[:,-1]\n",
    "train_data_bl, dev_data_bl, train_labels_bl, dev_labels_bl = train_test_split(X,y, test_size=0.2)  #for baseline"
   ]
  },
  {
   "cell_type": "code",
   "execution_count": 35,
   "metadata": {},
   "outputs": [
    {
     "name": "stdout",
     "output_type": "stream",
     "text": [
      "Estimated function: y = -9358.94 + (x2) w_i*x_i\n",
      "R^2: 0.5887666586414173\n",
      "Accuracy: 0.6929913885569763\n"
     ]
    }
   ],
   "source": [
    "#Linear regression model\n",
    "lr = LinearRegression(fit_intercept=True)\n",
    "lr.fit(train_data_bl, train_labels_bl)                 #fit model\n",
    "print (\"Estimated function: y = %.2f + (x%d) w_i*x_i\" %(lr.intercept_, len(lr.coef_)))\n",
    "accuracies_prediction = lr.predict(dev_data_bl)    #predict\n",
    "print(\"R^2:\",lr.score(train_data_bl,train_labels_bl))    #Finding R^2\n",
    "print(\"Accuracy:\",lr.score(dev_data_bl,dev_labels_bl))    #Finding accuracy of dev data"
   ]
  },
  {
   "cell_type": "code",
   "execution_count": 13,
   "metadata": {},
   "outputs": [
    {
     "name": "stdout",
     "output_type": "stream",
     "text": [
      "..........................................................................................\n",
      "k-Nearest Neighbors:  \n",
      "Best f1_score is 0.007 when K is 41\n"
     ]
    },
    {
     "data": {
      "image/png": "[encoded data removed]",
      "text/plain": [
       "<Figure size 432x288 with 1 Axes>"
      ]
     },
     "metadata": {
      "needs_background": "light"
     },
     "output_type": "display_data"
    }
   ],
   "source": [
    "#K-Nearest Neighbors\n",
    "\n",
    "print(\".\"*90)\n",
    "print(\"k-Nearest Neighbors:  \")\n",
    "K= [int(x) for x in np.linspace(1,1000,100)]  \n",
    "f1_scores = {}\n",
    "for k in K:\n",
    "    # k-Nearest Neighbors Model\n",
    "    knn = KNeighborsClassifier(n_neighbors=k)\n",
    "    knn.fit(train_data_bl, train_labels_bl)  \n",
    "    dev_predicted_labels = knn.predict(dev_data_bl)\n",
    "    # finding, printing, and storing f1_score    \n",
    "    f1_score = metrics.f1_score(dev_labels_bl, dev_predicted_labels, average='weighted')\n",
    "    #print(\"For K: %d, f1_score: %.3f\" %(k,f1_score))\n",
    "    f1_scores[k] = f1_score\n",
    "best = max(f1_scores, key=f1_scores.get)\n",
    "print(\"Best f1_score is %.3f when K is %s\" %(f1_scores[best],best))\n",
    "#Plotting\n",
    "fig1=plt.figure()\n",
    "fig1=plt.title('kNN: k versus f1_scores')\n",
    "fig1=plt.xlabel('k')\n",
    "fig1=plt.ylabel('f1_scores')\n",
    "fig1=plt.plot(list(f1_scores.keys()), list(f1_scores.values()))"
   ]
  },
  {
   "cell_type": "code",
   "execution_count": 14,
   "metadata": {},
   "outputs": [
    {
     "name": "stdout",
     "output_type": "stream",
     "text": [
      "..........................................................................................\n",
      "Naive Bayes:  \n",
      "Best f1_score is 0.000 when alpha is 1e-10\n"
     ]
    },
    {
     "data": {
      "image/png": "[encoded data removed]",
      "text/plain": [
       "<Figure size 432x288 with 1 Axes>"
      ]
     },
     "metadata": {
      "needs_background": "light"
     },
     "output_type": "display_data"
    }
   ],
   "source": [
    "#Naive Bayes\n",
    "\n",
    "print(\".\"*90)\n",
    "print(\"Naive Bayes:  \")\n",
    "alphas = [1.0e-10, 0.0001, 0.001, 0.01, 0.1, 0.5, 1.0, 2.0, 10.0]  \n",
    "#varying by magnitudes of alpha to capture a wide range of values\n",
    "f1_scores = {}\n",
    "for alpha in alphas:\n",
    "    # Naive Bayes Model\n",
    "    mnb = MultinomialNB(alpha=alpha)\n",
    "    mnb.fit(train_data_bl, train_labels_bl)\n",
    "    dev_predicted_labels = mnb.predict(dev_data_bl)\n",
    "    # finding, printing, and storing f1_score    \n",
    "    f1_score = metrics.f1_score(dev_labels_bl, dev_predicted_labels, average='weighted')\n",
    "    #print(\"For Alpha: %s, f1_score: %.03f\" %(alpha,f1_score))\n",
    "    f1_scores[alpha] = f1_score\n",
    "best = max(f1_scores, key=f1_scores.get)\n",
    "print(\"Best f1_score is %0.03f when alpha is %s\" %(f1_scores[best],best))\n",
    "#Plotting\n",
    "fig2=plt.figure()\n",
    "fig2=plt.title('NB: alphas versus f1_scores')\n",
    "fig2=plt.xlabel('alphas')\n",
    "fig2=plt.ylabel('f1_scores')\n",
    "#plt.xscale('log')\n",
    "fig2=plt.plot(list(f1_scores.keys()), list(f1_scores.values()))"
   ]
  },
  {
   "cell_type": "code",
   "execution_count": null,
   "metadata": {},
   "outputs": [],
   "source": []
  },
  {
   "cell_type": "code",
   "execution_count": null,
   "metadata": {},
   "outputs": [],
   "source": []
  },
  {
   "cell_type": "code",
   "execution_count": null,
   "metadata": {},
   "outputs": [],
   "source": []
  },
  {
   "cell_type": "code",
   "execution_count": null,
   "metadata": {},
   "outputs": [],
   "source": []
  },
  {
   "cell_type": "code",
   "execution_count": null,
   "metadata": {},
   "outputs": [],
   "source": []
  },
  {
   "cell_type": "markdown",
   "metadata": {},
   "source": [
    "### Train/Dev Data with all columns"
   ]
  },
  {
   "cell_type": "code",
   "execution_count": 68,
   "metadata": {},
   "outputs": [
    {
     "data": {
      "text/plain": [
       "Index(['Id', 'MSSubClass', 'MSZoning', 'LotArea', 'Street', 'LotShape',\n",
       "       'LandContour', 'Utilities', 'LotConfig', 'LandSlope', 'Neighborhood',\n",
       "       'Condition1', 'Condition2', 'BldgType', 'HouseStyle', 'OverallQual',\n",
       "       'OverallCond', 'YearBuilt', 'YearRemodAdd', 'RoofStyle', 'RoofMatl',\n",
       "       'Exterior1st', 'Exterior2nd', 'ExterQual', 'ExterCond', 'Foundation',\n",
       "       'BsmtFinSF1', 'BsmtFinSF2', 'BsmtUnfSF', 'TotalBsmtSF', 'Heating',\n",
       "       'HeatingQC', 'CentralAir', '1stFlrSF', '2ndFlrSF', 'LowQualFinSF',\n",
       "       'GrLivArea', 'BsmtFullBath', 'BsmtHalfBath', 'FullBath', 'HalfBath',\n",
       "       'BedroomAbvGr', 'KitchenAbvGr', 'KitchenQual', 'TotRmsAbvGrd',\n",
       "       'Functional', 'Fireplaces', 'GarageCars', 'GarageArea', 'PavedDrive',\n",
       "       'WoodDeckSF', 'OpenPorchSF', 'EnclosedPorch', '3SsnPorch',\n",
       "       'ScreenPorch', 'PoolArea', 'MiscVal', 'MoSold', 'YrSold', 'SaleType',\n",
       "       'SaleCondition', 'SalePrice'],\n",
       "      dtype='object')"
      ]
     },
     "execution_count": 68,
     "metadata": {},
     "output_type": "execute_result"
    }
   ],
   "source": [
    "train_df.shape\n",
    "train_df.columns\n",
    "\n",
    "#81 original features/columns becomes 62 features/columns after removing featurets/columns with NaN data"
   ]
  },
  {
   "cell_type": "code",
   "execution_count": 93,
   "metadata": {},
   "outputs": [
    {
     "name": "stdout",
     "output_type": "stream",
     "text": [
      "training data shape: (1168, 216)\n",
      "training label shape: (1168,)\n",
      "dev dat shape: (292, 216)\n",
      "dev label shape: (292,)\n"
     ]
    },
    {
     "data": {
      "text/html": [
       "<div>\n",
       "<style scoped>\n",
       "    .dataframe tbody tr th:only-of-type {\n",
       "        vertical-align: middle;\n",
       "    }\n",
       "\n",
       "    .dataframe tbody tr th {\n",
       "        vertical-align: top;\n",
       "    }\n",
       "\n",
       "    .dataframe thead th {\n",
       "        text-align: right;\n",
       "    }\n",
       "</style>\n",
       "<table border=\"1\" class=\"dataframe\">\n",
       "  <thead>\n",
       "    <tr style=\"text-align: right;\">\n",
       "      <th></th>\n",
       "      <th>Id</th>\n",
       "      <th>MSSubClass</th>\n",
       "      <th>LotArea</th>\n",
       "      <th>OverallQual</th>\n",
       "      <th>OverallCond</th>\n",
       "      <th>YearBuilt</th>\n",
       "      <th>YearRemodAdd</th>\n",
       "      <th>BsmtFinSF1</th>\n",
       "      <th>BsmtFinSF2</th>\n",
       "      <th>BsmtUnfSF</th>\n",
       "      <th>...</th>\n",
       "      <th>SaleType_ConLw</th>\n",
       "      <th>SaleType_New</th>\n",
       "      <th>SaleType_Oth</th>\n",
       "      <th>SaleType_WD</th>\n",
       "      <th>SaleCondition_Abnorml</th>\n",
       "      <th>SaleCondition_AdjLand</th>\n",
       "      <th>SaleCondition_Alloca</th>\n",
       "      <th>SaleCondition_Family</th>\n",
       "      <th>SaleCondition_Normal</th>\n",
       "      <th>SaleCondition_Partial</th>\n",
       "    </tr>\n",
       "  </thead>\n",
       "  <tbody>\n",
       "    <tr>\n",
       "      <th>618</th>\n",
       "      <td>619</td>\n",
       "      <td>20</td>\n",
       "      <td>11694</td>\n",
       "      <td>9</td>\n",
       "      <td>5</td>\n",
       "      <td>2007</td>\n",
       "      <td>2007</td>\n",
       "      <td>48</td>\n",
       "      <td>0</td>\n",
       "      <td>1774</td>\n",
       "      <td>...</td>\n",
       "      <td>0</td>\n",
       "      <td>1</td>\n",
       "      <td>0</td>\n",
       "      <td>0</td>\n",
       "      <td>0</td>\n",
       "      <td>0</td>\n",
       "      <td>0</td>\n",
       "      <td>0</td>\n",
       "      <td>0</td>\n",
       "      <td>1</td>\n",
       "    </tr>\n",
       "    <tr>\n",
       "      <th>870</th>\n",
       "      <td>871</td>\n",
       "      <td>20</td>\n",
       "      <td>6600</td>\n",
       "      <td>5</td>\n",
       "      <td>5</td>\n",
       "      <td>1962</td>\n",
       "      <td>1962</td>\n",
       "      <td>0</td>\n",
       "      <td>0</td>\n",
       "      <td>894</td>\n",
       "      <td>...</td>\n",
       "      <td>0</td>\n",
       "      <td>0</td>\n",
       "      <td>0</td>\n",
       "      <td>1</td>\n",
       "      <td>0</td>\n",
       "      <td>0</td>\n",
       "      <td>0</td>\n",
       "      <td>0</td>\n",
       "      <td>1</td>\n",
       "      <td>0</td>\n",
       "    </tr>\n",
       "    <tr>\n",
       "      <th>92</th>\n",
       "      <td>93</td>\n",
       "      <td>30</td>\n",
       "      <td>13360</td>\n",
       "      <td>5</td>\n",
       "      <td>7</td>\n",
       "      <td>1921</td>\n",
       "      <td>2006</td>\n",
       "      <td>713</td>\n",
       "      <td>0</td>\n",
       "      <td>163</td>\n",
       "      <td>...</td>\n",
       "      <td>0</td>\n",
       "      <td>0</td>\n",
       "      <td>0</td>\n",
       "      <td>1</td>\n",
       "      <td>0</td>\n",
       "      <td>0</td>\n",
       "      <td>0</td>\n",
       "      <td>0</td>\n",
       "      <td>1</td>\n",
       "      <td>0</td>\n",
       "    </tr>\n",
       "    <tr>\n",
       "      <th>817</th>\n",
       "      <td>818</td>\n",
       "      <td>20</td>\n",
       "      <td>13265</td>\n",
       "      <td>8</td>\n",
       "      <td>5</td>\n",
       "      <td>2002</td>\n",
       "      <td>2002</td>\n",
       "      <td>1218</td>\n",
       "      <td>0</td>\n",
       "      <td>350</td>\n",
       "      <td>...</td>\n",
       "      <td>0</td>\n",
       "      <td>0</td>\n",
       "      <td>0</td>\n",
       "      <td>1</td>\n",
       "      <td>0</td>\n",
       "      <td>0</td>\n",
       "      <td>0</td>\n",
       "      <td>0</td>\n",
       "      <td>1</td>\n",
       "      <td>0</td>\n",
       "    </tr>\n",
       "    <tr>\n",
       "      <th>302</th>\n",
       "      <td>303</td>\n",
       "      <td>20</td>\n",
       "      <td>13704</td>\n",
       "      <td>7</td>\n",
       "      <td>5</td>\n",
       "      <td>2001</td>\n",
       "      <td>2002</td>\n",
       "      <td>0</td>\n",
       "      <td>0</td>\n",
       "      <td>1541</td>\n",
       "      <td>...</td>\n",
       "      <td>0</td>\n",
       "      <td>0</td>\n",
       "      <td>0</td>\n",
       "      <td>1</td>\n",
       "      <td>0</td>\n",
       "      <td>0</td>\n",
       "      <td>0</td>\n",
       "      <td>0</td>\n",
       "      <td>1</td>\n",
       "      <td>0</td>\n",
       "    </tr>\n",
       "  </tbody>\n",
       "</table>\n",
       "<p>5 rows × 216 columns</p>\n",
       "</div>"
      ],
      "text/plain": [
       "      Id  MSSubClass  LotArea  OverallQual  OverallCond  YearBuilt  \\\n",
       "618  619          20    11694            9            5       2007   \n",
       "870  871          20     6600            5            5       1962   \n",
       "92    93          30    13360            5            7       1921   \n",
       "817  818          20    13265            8            5       2002   \n",
       "302  303          20    13704            7            5       2001   \n",
       "\n",
       "     YearRemodAdd  BsmtFinSF1  BsmtFinSF2  BsmtUnfSF  ...  SaleType_ConLw  \\\n",
       "618          2007          48           0       1774  ...               0   \n",
       "870          1962           0           0        894  ...               0   \n",
       "92           2006         713           0        163  ...               0   \n",
       "817          2002        1218           0        350  ...               0   \n",
       "302          2002           0           0       1541  ...               0   \n",
       "\n",
       "     SaleType_New  SaleType_Oth  SaleType_WD  SaleCondition_Abnorml  \\\n",
       "618             1             0            0                      0   \n",
       "870             0             0            1                      0   \n",
       "92              0             0            1                      0   \n",
       "817             0             0            1                      0   \n",
       "302             0             0            1                      0   \n",
       "\n",
       "     SaleCondition_AdjLand  SaleCondition_Alloca  SaleCondition_Family  \\\n",
       "618                      0                     0                     0   \n",
       "870                      0                     0                     0   \n",
       "92                       0                     0                     0   \n",
       "817                      0                     0                     0   \n",
       "302                      0                     0                     0   \n",
       "\n",
       "     SaleCondition_Normal  SaleCondition_Partial  \n",
       "618                     0                      1  \n",
       "870                     1                      0  \n",
       "92                      1                      0  \n",
       "817                     1                      0  \n",
       "302                     1                      0  \n",
       "\n",
       "[5 rows x 216 columns]"
      ]
     },
     "execution_count": 93,
     "metadata": {},
     "output_type": "execute_result"
    }
   ],
   "source": [
    "#Converted all categorical data to dummy variables\n",
    "#columns expanded from 62 to 216\n",
    "np.random.seed(0)\n",
    "\n",
    "dummies_df = pd.get_dummies(train_df)\n",
    "X=dummies_df.drop(['SalePrice'],axis=1)\n",
    "y=dummies_df['SalePrice']\n",
    "\n",
    "# #scale values between 0 and 1\n",
    "# features=X.columns.values\n",
    "# scaler=MinMaxScaler(feature_range=(0,1))\n",
    "# scaler.fit(X)\n",
    "# X=pd.DataFrame(scaler.transform(X))\n",
    "# X.columns=features\n",
    "\n",
    "\n",
    "train_data_ac, dev_data_ac, train_labels_ac, dev_labels_ac = train_test_split(X,y, test_size=0.2)\n",
    "print('training data shape:', train_data_ac.shape)\n",
    "print('training label shape:', train_labels_ac.shape)\n",
    "print('dev dat shape:',      dev_data_ac.shape)\n",
    "print('dev label shape:',      dev_labels_ac.shape)\n",
    "train_data_ac.head()"
   ]
  },
  {
   "cell_type": "code",
   "execution_count": 94,
   "metadata": {},
   "outputs": [
    {
     "name": "stdout",
     "output_type": "stream",
     "text": [
      "Estimated function: y = -1031417.11 + (x216) w_i*x_i\n",
      "R^2: 0.9306889059525217\n",
      "Accuracy: 0.573540758837457\n",
      "prediction prices: [275214.38942719 145240.33301373 117205.92149905 216336.46894249\n",
      "  98387.25223346  90386.48993408 247551.3468477  131491.70865098\n",
      " 545206.525338   147809.96313621 204263.2307743   47166.92112814\n",
      " 231052.15116444 115065.15368798 115323.30949185 149965.16503602\n",
      " 260421.19275935 121570.11091196 139375.13878449 188098.93610119\n",
      " 129675.06580688 164541.79498095  97555.1140713  151699.30242601\n",
      " 180352.93038178 155421.96342973 160106.23709728  57388.76224261\n",
      " 330185.62590481 110777.58305944 145599.04470293 205097.82662452\n",
      " 153564.95973383 295821.60031197 325027.28621149 194563.85389882\n",
      " 318121.69064625 118547.66998819 234327.1859413  338443.39508773\n",
      " 209099.55048769 110905.99605958 198537.61217853 298317.55251253\n",
      " 370781.98708455 126886.86996326  30733.22308929 127170.26021461\n",
      " 182119.73223782  72833.18939428 381896.62931061 148999.8378341\n",
      " 168562.11861074  70544.34155495 232679.87508679  99317.29043615\n",
      " 104803.96117404 224738.90236953 133614.75315767  50577.41194603\n",
      " 128999.69382404 128699.92557558 122906.13437875 155814.95730671\n",
      " 218866.038167   169054.83669851 127443.30133601 227344.75316739\n",
      " 130777.82494185 190114.97798864 177002.87072395 126208.65908799\n",
      "  40452.30830583 298065.25589559  71230.43479052 251052.0975238\n",
      " 124574.39666445  75162.63939513 287336.11771114 228211.12426598\n",
      " 131644.77114458 143805.94756649 112888.65450882 156287.91244727\n",
      " 285476.81695293 194868.95144688  81828.66394765 221736.94922746\n",
      " 163848.78702925 140372.47405043 193041.21041431 175484.14677258\n",
      " 179852.30494239 229796.34757338 190964.5623899  166556.0599443\n",
      " 213826.057424   163469.37931693 106223.51226634 158989.75715823\n",
      " 249377.35838349 236005.06584409 112758.25372441 152832.29187281\n",
      " 105883.67026301 290236.55705399 149786.9853828  100732.48991123\n",
      " 182405.45446463 117656.50267356 113814.27632849 112933.80832655\n",
      " 188140.97541237 102129.36516272 187732.62299449 167124.62548034\n",
      " 392796.23445115 117020.78745873 205359.29569819 244099.93496229\n",
      " 160951.60685292 155880.25420717 129399.06181197 182246.91070037\n",
      " 222748.03297067 286458.85273855 382491.80015577 223170.2543108\n",
      " 215490.29335897 165226.29138829 205637.52799427 189579.53594936\n",
      " 157661.60001634 189483.36185453  89416.60654079 195722.38859534\n",
      " 145513.49508276 178337.42072694 102239.04482364 176211.42284237\n",
      " 164960.69007669 116338.59206177 242316.88896278 154721.2995852\n",
      " 149927.68494471 167587.15077655 213572.62165368 137370.43572736\n",
      " 321675.85827409 223680.54260769 172863.27152639 376478.2632226\n",
      " 279227.48700441 165911.9066079  158104.32928278 293821.63315587\n",
      " 149248.24824254 205580.93021885 136233.93073568 169342.04608453\n",
      " 107218.00966466 136004.32234206 213281.0353903  118960.85255826\n",
      " 227970.87585449 116657.12255475 152627.18386745 285136.97258915\n",
      " 228932.47377564 166087.5363138  164115.75824793 166457.612362\n",
      " 212597.64546087 188929.53782714 117171.81269051 131130.61371258\n",
      " 141977.05538726 260594.6680742  103727.75893249 133942.71706349\n",
      " 268906.53267637 192993.15842358 118489.27538531 284582.54891145\n",
      " 107026.575076   189043.05461522  98633.42913197 217803.5035196\n",
      " 202816.85698343 134373.14287814 147469.63471079 194081.55520578\n",
      " 226478.63083568 137856.62699295 104137.29544966 150762.14783716\n",
      "  64960.25710866 144481.47954734 171685.73211681 118277.34856942\n",
      " 116442.47024816 219623.14899697 114608.47909465 132622.09228263\n",
      " 110180.53770536 203097.84130495 160209.29622252 302482.82346829\n",
      " 253273.45472384  58064.99704867 139397.04587164 286325.40590329\n",
      "  82537.53878217 111866.13851323 396388.95669061 203036.94955227\n",
      " 178349.11820042 265867.27687003 236655.70812075  69861.23638133\n",
      " 191320.10451671 142935.21767657 141044.5545787  124311.16469492\n",
      " 185250.58329734 281769.3656502  214428.82252117 194806.42913846\n",
      " 128297.96578462 150537.18795917  85460.05900012 134101.40244861\n",
      "  92794.98396396 145622.19664618 278034.89646018 137584.0942422\n",
      " 120660.35239553 115035.68881601  85155.08921404 193685.2351607\n",
      " 126573.600888   197679.98314585 208540.74757166 210730.51029763\n",
      " 198020.1030245  176838.42871017 221414.75833489 189295.11081713\n",
      " 155573.47294305 199561.36488583 191005.61222221 263990.17504123\n",
      "  77306.07845254 436768.09785525 245271.54198294 225331.18039531\n",
      " 107903.1284188  230568.1051576  479512.93238066 841656.31405868\n",
      " 189913.42252813  90658.66468973 153991.94315839  64676.11123287\n",
      "   7890.77732843 362337.29808035 348023.56124364 -16474.47022648\n",
      " 231829.42432612 230704.3492527  137245.4688852  235345.3916296\n",
      " 152716.36080899 179326.30683973 121774.98055796 235497.01828322\n",
      " 183457.46341809 269562.38353377 211569.17653984  87790.33610247\n",
      " 135321.62356792 367221.30601794 170294.33411521 136269.99801518\n",
      " 209670.20997749 172464.37625823 124778.38528543 284249.73190533\n",
      " 460861.10772621 264373.31464511 127675.69774895 101174.20343265]\n"
     ]
    }
   ],
   "source": [
    "# NOT SURE IF DONE CORRECTLY\n",
    "\n",
    "#Linear regression model\n",
    "def linr():\n",
    "    lr = LinearRegression(fit_intercept=True)\n",
    "    lr.fit(train_data_ac, train_labels_ac)                 #fit model\n",
    "    print (\"Estimated function: y = %.2f + (x%d) w_i*x_i\" %(lr.intercept_, len(lr.coef_)))\n",
    "    accuracies_prediction = lr.predict(dev_data_ac)    #predict\n",
    "    print(\"R^2:\",lr.score(train_data_ac,train_labels_ac))    #Finding R^2\n",
    "    print(\"Accuracy:\",lr.score(dev_data_ac,dev_labels_ac))    #Finding accuracy of dev data\n",
    "    # lr.coef_[abs(lr.coef_) > 0.1]\n",
    "    #np.where([abs(lr.coef_) > 0.1])\n",
    "    #print(lr.coef_)\n",
    "    print(\"prediction prices:\", accuracies_prediction)\n",
    "linr()"
   ]
  },
  {
   "cell_type": "code",
   "execution_count": 75,
   "metadata": {},
   "outputs": [
    {
     "name": "stdout",
     "output_type": "stream",
     "text": [
      "For C = 0.5, f1_score = 0.003424657534246575152359071126\n"
     ]
    },
    {
     "name": "stderr",
     "output_type": "stream",
     "text": [
      "C:\\Users\\johnl\\Anaconda3\\lib\\site-packages\\sklearn\\svm\\_base.py:947: ConvergenceWarning: Liblinear failed to converge, increase the number of iterations.\n",
      "  \"the number of iterations.\", ConvergenceWarning)\n"
     ]
    }
   ],
   "source": [
    "#logistic regression model\n",
    "\n",
    "def logr():\n",
    "    c=0.5\n",
    "    lr = LogisticRegression(C=c, solver=\"liblinear\", multi_class=\"auto\")  #default regularization = l2\n",
    "    lr.fit(train_data_ac,train_labels_ac)\n",
    "    dev_predicted_labels=lr.predict(dev_data_ac)\n",
    "    # finding, printing, and storing f1_score    \n",
    "    f1_score=metrics.f1_score(dev_labels_ac,dev_predicted_labels,average='weighted')\n",
    "    print(\"For C = %s, f1_score = %.30f\" %(c,f1_score))\n",
    "logr()"
   ]
  },
  {
   "cell_type": "code",
   "execution_count": 76,
   "metadata": {},
   "outputs": [
    {
     "name": "stdout",
     "output_type": "stream",
     "text": [
      "..........................................................................................\n",
      "k-Nearest Neighbors:  \n",
      "Best f1_score is 0.008371385083713852107156760951 when K is 11\n"
     ]
    },
    {
     "data": {
      "image/png": "[encoded data removed]",
      "text/plain": [
       "<Figure size 432x288 with 1 Axes>"
      ]
     },
     "metadata": {
      "needs_background": "light"
     },
     "output_type": "display_data"
    }
   ],
   "source": [
    "#K-Nearest Neighbors\n",
    "\n",
    "def kNN():\n",
    "    print(\".\"*90)\n",
    "    print(\"k-Nearest Neighbors:  \")\n",
    "    K= [int(x) for x in np.linspace(1,1000,100)]    #runs kNN for x100 k's between 1 to 1000\n",
    "    f1_scores = {}   #stores f1_scores for each k\n",
    "    for k in K:\n",
    "        # k-Nearest Neighbors Model\n",
    "        knn = KNeighborsClassifier(n_neighbors=k)\n",
    "        knn.fit(train_data_ac, train_labels_ac)  \n",
    "        dev_predicted_labels = knn.predict(dev_data_ac)\n",
    "        # finding, printing, and storing f1_score    \n",
    "        f1_score = metrics.f1_score(dev_labels_ac, dev_predicted_labels, average='weighted')\n",
    "        #print(\"For K: %d, f1_score: %.3f\" %(k,f1_score))\n",
    "        f1_scores[k] = f1_score\n",
    "    best = max(f1_scores, key=f1_scores.get)\n",
    "    print(\"Best f1_score is %.30f when K is %s\" %(f1_scores[best],best))\n",
    "    #Plotting\n",
    "    fig1=plt.figure()\n",
    "    fig1=plt.title('kNN: k versus f1_scores')\n",
    "    fig1=plt.xlabel('k')\n",
    "    fig1=plt.ylabel('f1_scores')\n",
    "    fig1=plt.plot(list(f1_scores.keys()), list(f1_scores.values()))\n",
    "kNN()"
   ]
  },
  {
   "cell_type": "code",
   "execution_count": 77,
   "metadata": {},
   "outputs": [
    {
     "name": "stdout",
     "output_type": "stream",
     "text": [
      "..........................................................................................\n",
      "Naive Bayes:  \n",
      "Best f1_score is 0.008088714938030006421088025093 when alpha is 10.0\n"
     ]
    },
    {
     "data": {
      "image/png": "[encoded data removed]",
      "text/plain": [
       "<Figure size 432x288 with 1 Axes>"
      ]
     },
     "metadata": {
      "needs_background": "light"
     },
     "output_type": "display_data"
    }
   ],
   "source": [
    "#Naive Bayes\n",
    "\n",
    "def NB():\n",
    "    print(\".\"*90)\n",
    "    print(\"Naive Bayes:  \")\n",
    "    alphas = [1.0e-10, 0.0001, 0.001, 0.01, 0.1, 0.5, 1.0, 2.0, 10.0]  \n",
    "    #varying by magnitudes of alpha to capture a wide range of values\n",
    "    f1_scores = {}      #stores f1_scores for each alpha\n",
    "    for alpha in alphas:\n",
    "        # Naive Bayes Model\n",
    "        mnb = MultinomialNB(alpha=alpha)\n",
    "        mnb.fit(train_data_ac, train_labels_ac)\n",
    "        dev_predicted_labels = mnb.predict(dev_data_ac)\n",
    "        # finding, printing, and storing f1_score    \n",
    "        f1_score = metrics.f1_score(dev_labels_ac, dev_predicted_labels, average='weighted')\n",
    "        #print(\"For Alpha: %s, f1_score: %.03f\" %(alpha,f1_score))\n",
    "        f1_scores[alpha] = f1_score\n",
    "    best = max(f1_scores, key=f1_scores.get)\n",
    "    print(\"Best f1_score is %0.30f when alpha is %s\" %(f1_scores[best],best))\n",
    "    #Plotting\n",
    "    fig2=plt.figure()\n",
    "    fig2=plt.title('NB: alphas versus f1_scores')\n",
    "    fig2=plt.xlabel('alphas')\n",
    "    fig2=plt.ylabel('f1_scores')\n",
    "    plt.xscale('log')\n",
    "    fig2=plt.plot(list(f1_scores.keys()), list(f1_scores.values()))\n",
    "NB()"
   ]
  },
  {
   "cell_type": "code",
   "execution_count": null,
   "metadata": {},
   "outputs": [],
   "source": []
  },
  {
   "cell_type": "code",
   "execution_count": null,
   "metadata": {},
   "outputs": [],
   "source": []
  },
  {
   "cell_type": "code",
   "execution_count": null,
   "metadata": {},
   "outputs": [],
   "source": []
  }
 ],
 "metadata": {
  "kernelspec": {
   "display_name": "Python 3",
   "language": "python",
   "name": "python3"
  },
  "language_info": {
   "codemirror_mode": {
    "name": "ipython",
    "version": 3
   },
   "file_extension": ".py",
   "mimetype": "text/x-python",
   "name": "python",
   "nbconvert_exporter": "python",
   "pygments_lexer": "ipython3",
   "version": "3.7.4"
  }
 },
 "nbformat": 4,
 "nbformat_minor": 4
}
